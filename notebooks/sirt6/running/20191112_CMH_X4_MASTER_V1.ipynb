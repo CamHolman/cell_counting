{
 "nbformat": 4,
 "nbformat_minor": 2,
 "metadata": {
  "language_info": {
   "name": "python",
   "codemirror_mode": {
    "name": "ipython",
    "version": 3
   }
  },
  "orig_nbformat": 2,
  "file_extension": ".py",
  "mimetype": "text/x-python",
  "name": "python",
  "npconvert_exporter": "python",
  "pygments_lexer": "ipython3",
  "version": 3
 },
 "cells": [
  {
   "cell_type": "code",
   "execution_count": 2,
   "metadata": {},
   "outputs": [],
   "source": [
    "import numpy as np\n",
    "import skimage as ski\n",
    "import os\n",
    "from matplotlib import pyplot as plt\n",
    "from skimage.feature import blob_dog, blob_log, blob_doh\n",
    "from skimage.color import rgb2gray\n",
    "from math import sqrt\n"
   ]
  },
  {
   "cell_type": "code",
   "execution_count": 6,
   "metadata": {},
   "outputs": [],
   "source": [
    "im_dir = 'Z:/x4_counting/projected_tiffs/AC_10.22.19_Iba1_GFAP_X4_1616E/'"
   ]
  },
  {
   "cell_type": "code",
   "execution_count": 7,
   "metadata": {},
   "outputs": [
    {
     "data": {
      "text/plain": "['Z:/x4_counting/projected_tiffs/AC_10.22.19_Iba1_GFAP_X4_1616E\\\\1613E_GFAP.1.1000_Iba1.1.1000_10.21.19_20x_zStack_10um_1_DG.tif',\n 'Z:/x4_counting/projected_tiffs/AC_10.22.19_Iba1_GFAP_X4_1616E\\\\1613E_GFAP.1.1000_Iba1.1.1000_10.21.19_20x_zStack_10um_2_DG.tif',\n 'Z:/x4_counting/projected_tiffs/AC_10.22.19_Iba1_GFAP_X4_1616E\\\\1613E_GFAP.1.1000_Iba1.1.1000_10.21.19_20x_zStack_10um_3_DG.tif',\n 'Z:/x4_counting/projected_tiffs/AC_10.22.19_Iba1_GFAP_X4_1616E\\\\1613E_GFAP.1.1000_Iba1.1.1000_10.21.19_20x_zStack_10um_4_DG.tif',\n 'Z:/x4_counting/projected_tiffs/AC_10.22.19_Iba1_GFAP_X4_1616E\\\\1613E_GFAP.1.1000_Iba1.1.1000_10.21.19_20x_zStack_10um_5_DG.tif',\n 'Z:/x4_counting/projected_tiffs/AC_10.22.19_Iba1_GFAP_X4_1616E\\\\1613E_GFAP.1.1000_Iba1.1.1000_10.21.19_20x_zStack_10um_6_CA3.tif',\n 'Z:/x4_counting/projected_tiffs/AC_10.22.19_Iba1_GFAP_X4_1616E\\\\1613E_GFAP.1.1000_Iba1.1.1000_10.21.19_20x_zStack_10um_7_CA3.tif',\n 'Z:/x4_counting/projected_tiffs/AC_10.22.19_Iba1_GFAP_X4_1616E\\\\1613E_GFAP.1.1000_Iba1.1.1000_10.21.19_20x_zStack_10um_8_CA2.tif',\n 'Z:/x4_counting/projected_tiffs/AC_10.22.19_Iba1_GFAP_X4_1616E\\\\1613E_GFAP.1.1000_Iba1.1.1000_10.21.19_20x_zStack_10um_9_CA1.CA2.tif',\n 'Z:/x4_counting/projected_tiffs/AC_10.22.19_Iba1_GFAP_X4_1616E\\\\1613E_GFAP.1.1000_Iba1.1.1000_10.21.19_20x_zStack_10um_10_CA1.tif',\n 'Z:/x4_counting/projected_tiffs/AC_10.22.19_Iba1_GFAP_X4_1616E\\\\1613E_GFAP.1.1000_Iba1.1.1000_10.21.19_20x_zStack_10um_11_CA1.tif',\n 'Z:/x4_counting/projected_tiffs/AC_10.22.19_Iba1_GFAP_X4_1616E\\\\1613E_GFAP.1.1000_Iba1.1.1000_10.21.19_20x_zStack_10um_12_CA1.tif',\n 'Z:/x4_counting/projected_tiffs/AC_10.22.19_Iba1_GFAP_X4_1616E\\\\1613E_GFAP.1.1000_Iba1.1.1000_10.21.19_20x_zStack_10um_13_CA1.tif',\n 'Z:/x4_counting/projected_tiffs/AC_10.22.19_Iba1_GFAP_X4_1616E\\\\1613E_GFAP.1.1000_Iba1.1.1000_10.21.19_20x_zStack_10um_14_Ctx.tif',\n 'Z:/x4_counting/projected_tiffs/AC_10.22.19_Iba1_GFAP_X4_1616E\\\\1613E_GFAP.1.1000_Iba1.1.1000_10.21.19_20x_zStack_10um_15_Ctx.tif',\n 'Z:/x4_counting/projected_tiffs/AC_10.22.19_Iba1_GFAP_X4_1616E\\\\1613E_GFAP.1.1000_Iba1.1.1000_10.21.19_20x_zStack_10um_16_Ctx.tif',\n 'Z:/x4_counting/projected_tiffs/AC_10.22.19_Iba1_GFAP_X4_1616E\\\\1613E_GFAP.1.1000_Iba1.1.1000_10.21.19_20x_zStack_10um_17_Ctx.tif',\n 'Z:/x4_counting/projected_tiffs/AC_10.22.19_Iba1_GFAP_X4_1616E\\\\1613E_GFAP.1.1000_Iba1.1.1000_10.21.19_20x_zStack_10um_18_Ctx.tif',\n 'Z:/x4_counting/projected_tiffs/AC_10.22.19_Iba1_GFAP_X4_1616E\\\\1613E_GFAP.1.1000_Iba1.1.1000_10.21.19_20x_zStack_10um_19_Ctx.tif',\n 'Z:/x4_counting/projected_tiffs/AC_10.22.19_Iba1_GFAP_X4_1616E\\\\1613E_GFAP.1.1000_Iba1.1.1000_10.21.19_20x_zStack_10um_20_Ctx.tif',\n 'Z:/x4_counting/projected_tiffs/AC_10.22.19_Iba1_GFAP_X4_1616E\\\\1613E_GFAP.1.1000_Iba1.1.1000_10.21.19_20x_zStack_10um_21_Ctx.tif',\n 'Z:/x4_counting/projected_tiffs/AC_10.22.19_Iba1_GFAP_X4_1616E\\\\1613E_GFAP.1.1000_Iba1.1.1000_10.21.19_20x_zStack_10um_22_Ctx.tif',\n 'Z:/x4_counting/projected_tiffs/AC_10.22.19_Iba1_GFAP_X4_1616E\\\\1613E_GFAP.1.1000_Iba1.1.1000_10.21.19_20x_zStack_10um_23_Ctx.tif',\n 'Z:/x4_counting/projected_tiffs/AC_10.22.19_Iba1_GFAP_X4_1616E\\\\1613E_GFAP.1.1000_Iba1.1.1000_10.21.19_20x_zStack_10um_24_Ctx.tif',\n 'Z:/x4_counting/projected_tiffs/AC_10.22.19_Iba1_GFAP_X4_1616E\\\\1613E_GFAP.1.1000_Iba1.1.1000_10.21.19_20x_zStack_10um_25_Ctx.tif',\n 'Z:/x4_counting/projected_tiffs/AC_10.22.19_Iba1_GFAP_X4_1616E\\\\1613E_GFAP.1.1000_Iba1.1.1000_10.21.19_20x_zStack_10um_26_Ctx.tif',\n 'Z:/x4_counting/projected_tiffs/AC_10.22.19_Iba1_GFAP_X4_1616E\\\\1613E_GFAP.1.1000_Iba1.1.1000_10.21.19_20x_zStack_10um_27_Ctx.tif',\n 'Z:/x4_counting/projected_tiffs/AC_10.22.19_Iba1_GFAP_X4_1616E\\\\1613E_GFAP.1.1000_Iba1.1.1000_10.21.19_20x_zStack_10um_28_Ctx.tif',\n 'Z:/x4_counting/projected_tiffs/AC_10.22.19_Iba1_GFAP_X4_1616E\\\\1613E_GFAP.1.1000_Iba1.1.1000_10.21.19_20x_zStack_10um_29_Ctx.tif',\n 'Z:/x4_counting/projected_tiffs/AC_10.22.19_Iba1_GFAP_X4_1616E\\\\1613E_GFAP.1.1000_Iba1.1.1000_10.21.19_20x_zStack_10um_30.tif',\n 'Z:/x4_counting/projected_tiffs/AC_10.22.19_Iba1_GFAP_X4_1616E\\\\1613E_GFAP.1.1000_Iba1.1.1000_10.21.19_20x_zStack_10um_31_Ctx.tif',\n 'Z:/x4_counting/projected_tiffs/AC_10.22.19_Iba1_GFAP_X4_1616E\\\\1613E_GFAP.1.1000_Iba1.1.1000_10.21.19_20x_zStack_10um_32_Ctx.tif',\n 'Z:/x4_counting/projected_tiffs/AC_10.22.19_Iba1_GFAP_X4_1616E\\\\1613E_GFAP.1.1000_Iba1.1.1000_10.21.19_20x_zStack_10um_33_Ctx.tif',\n 'Z:/x4_counting/projected_tiffs/AC_10.22.19_Iba1_GFAP_X4_1616E\\\\1613E_GFAP.1.1000_Iba1.1.1000_10.21.19_20x_zStack_10um_34_Ctx.tif',\n 'Z:/x4_counting/projected_tiffs/AC_10.22.19_Iba1_GFAP_X4_1616E\\\\1613E_GFAP.1.1000_Iba1.1.1000_10.21.19_20x_zStack_10um_35_Ctx.tif',\n 'Z:/x4_counting/projected_tiffs/AC_10.22.19_Iba1_GFAP_X4_1616E\\\\1613E_GFAP.1.1000_Iba1.1.1000_10.21.19_20x_zStack_10um_36_Ctx.tif',\n 'Z:/x4_counting/projected_tiffs/AC_10.22.19_Iba1_GFAP_X4_1616E\\\\1613E_GFAP.1.1000_Iba1.1.1000_10.21.19_20x_zStack_10um_37_Ctx.tif',\n 'Z:/x4_counting/projected_tiffs/AC_10.22.19_Iba1_GFAP_X4_1616E\\\\1613E_GFAP.1.1000_Iba1.1.1000_10.21.19_20x_zStack_10um_38_Ctx.tif',\n 'Z:/x4_counting/projected_tiffs/AC_10.22.19_Iba1_GFAP_X4_1616E\\\\1613E_GFAP.1.1000_Iba1.1.1000_10.21.19_20x_zStack_10um_39.tif',\n 'Z:/x4_counting/projected_tiffs/AC_10.22.19_Iba1_GFAP_X4_1616E\\\\1613E_GFAP.1.1000_Iba1.1.1000_10.21.19_20x_zStack_10um_40.tif',\n 'Z:/x4_counting/projected_tiffs/AC_10.22.19_Iba1_GFAP_X4_1616E\\\\1613E_Section2_GFAP.1.1000_Iba1.1.1000_10.21.19_20x_zStack_10um_1_DG.tif',\n 'Z:/x4_counting/projected_tiffs/AC_10.22.19_Iba1_GFAP_X4_1616E\\\\1613E_Section2_GFAP.1.1000_Iba1.1.1000_10.21.19_20x_zStack_10um_2_DG.tif',\n 'Z:/x4_counting/projected_tiffs/AC_10.22.19_Iba1_GFAP_X4_1616E\\\\1613E_Section2_GFAP.1.1000_Iba1.1.1000_10.21.19_20x_zStack_10um_3_DG.tif',\n 'Z:/x4_counting/projected_tiffs/AC_10.22.19_Iba1_GFAP_X4_1616E\\\\1613E_Section2_GFAP.1.1000_Iba1.1.1000_10.21.19_20x_zStack_10um_4_DG.tif',\n 'Z:/x4_counting/projected_tiffs/AC_10.22.19_Iba1_GFAP_X4_1616E\\\\1613E_Section2_GFAP.1.1000_Iba1.1.1000_10.21.19_20x_zStack_10um_5_DG.tif',\n 'Z:/x4_counting/projected_tiffs/AC_10.22.19_Iba1_GFAP_X4_1616E\\\\1613E_Section2_GFAP.1.1000_Iba1.1.1000_10.21.19_20x_zStack_10um_6_CA3.tif',\n 'Z:/x4_counting/projected_tiffs/AC_10.22.19_Iba1_GFAP_X4_1616E\\\\1613E_Section2_GFAP.1.1000_Iba1.1.1000_10.21.19_20x_zStack_10um_7_CA3.tif',\n 'Z:/x4_counting/projected_tiffs/AC_10.22.19_Iba1_GFAP_X4_1616E\\\\1613E_Section2_GFAP.1.1000_Iba1.1.1000_10.21.19_20x_zStack_10um_8_CA2.tif',\n 'Z:/x4_counting/projected_tiffs/AC_10.22.19_Iba1_GFAP_X4_1616E\\\\1613E_Section2_GFAP.1.1000_Iba1.1.1000_10.21.19_20x_zStack_10um_9_CA2.tif',\n 'Z:/x4_counting/projected_tiffs/AC_10.22.19_Iba1_GFAP_X4_1616E\\\\1613E_Section2_GFAP.1.1000_Iba1.1.1000_10.21.19_20x_zStack_10um_10_CA1.tif',\n 'Z:/x4_counting/projected_tiffs/AC_10.22.19_Iba1_GFAP_X4_1616E\\\\1613E_Section2_GFAP.1.1000_Iba1.1.1000_10.21.19_20x_zStack_10um_11_CA1.tif',\n 'Z:/x4_counting/projected_tiffs/AC_10.22.19_Iba1_GFAP_X4_1616E\\\\1613E_Section2_GFAP.1.1000_Iba1.1.1000_10.21.19_20x_zStack_10um_12_CA1.tif',\n 'Z:/x4_counting/projected_tiffs/AC_10.22.19_Iba1_GFAP_X4_1616E\\\\1613E_Section2_GFAP.1.1000_Iba1.1.1000_10.21.19_20x_zStack_10um_14_Ctx.tif',\n 'Z:/x4_counting/projected_tiffs/AC_10.22.19_Iba1_GFAP_X4_1616E\\\\1613E_Section2_GFAP.1.1000_Iba1.1.1000_10.21.19_20x_zStack_10um_15_Ctx.tif',\n 'Z:/x4_counting/projected_tiffs/AC_10.22.19_Iba1_GFAP_X4_1616E\\\\1613E_Section2_GFAP.1.1000_Iba1.1.1000_10.21.19_20x_zStack_10um_16_Ctx.tif',\n 'Z:/x4_counting/projected_tiffs/AC_10.22.19_Iba1_GFAP_X4_1616E\\\\1613E_Section2_GFAP.1.1000_Iba1.1.1000_10.21.19_20x_zStack_10um_17_Ctx.tif',\n 'Z:/x4_counting/projected_tiffs/AC_10.22.19_Iba1_GFAP_X4_1616E\\\\1613E_Section2_GFAP.1.1000_Iba1.1.1000_10.21.19_20x_zStack_10um_18_Ctx.tif',\n 'Z:/x4_counting/projected_tiffs/AC_10.22.19_Iba1_GFAP_X4_1616E\\\\1613E_Section2_GFAP.1.1000_Iba1.1.1000_10.21.19_20x_zStack_10um_18down_Ctx.tif',\n 'Z:/x4_counting/projected_tiffs/AC_10.22.19_Iba1_GFAP_X4_1616E\\\\1613E_Section2_GFAP.1.1000_Iba1.1.1000_10.21.19_20x_zStack_10um_19_Ctx.tif',\n 'Z:/x4_counting/projected_tiffs/AC_10.22.19_Iba1_GFAP_X4_1616E\\\\1613E_Section2_GFAP.1.1000_Iba1.1.1000_10.21.19_20x_zStack_10um_19down_Ctx.tif',\n 'Z:/x4_counting/projected_tiffs/AC_10.22.19_Iba1_GFAP_X4_1616E\\\\1613E_Section2_GFAP.1.1000_Iba1.1.1000_10.21.19_20x_zStack_10um_20_Ctx.tif',\n 'Z:/x4_counting/projected_tiffs/AC_10.22.19_Iba1_GFAP_X4_1616E\\\\1613E_Section2_GFAP.1.1000_Iba1.1.1000_10.21.19_20x_zStack_10um_21_Ctx.tif',\n 'Z:/x4_counting/projected_tiffs/AC_10.22.19_Iba1_GFAP_X4_1616E\\\\1613E_Section2_GFAP.1.1000_Iba1.1.1000_10.21.19_20x_zStack_10um_22_Ctx.tif',\n 'Z:/x4_counting/projected_tiffs/AC_10.22.19_Iba1_GFAP_X4_1616E\\\\1613E_Section2_GFAP.1.1000_Iba1.1.1000_10.21.19_20x_zStack_10um_23_Ctx.tif',\n 'Z:/x4_counting/projected_tiffs/AC_10.22.19_Iba1_GFAP_X4_1616E\\\\1613E_Section2_GFAP.1.1000_Iba1.1.1000_10.21.19_20x_zStack_10um_24_Ctx.tif',\n 'Z:/x4_counting/projected_tiffs/AC_10.22.19_Iba1_GFAP_X4_1616E\\\\1613E_Section2_GFAP.1.1000_Iba1.1.1000_10.21.19_20x_zStack_10um_25_Ctx.tif',\n 'Z:/x4_counting/projected_tiffs/AC_10.22.19_Iba1_GFAP_X4_1616E\\\\1613E_Section2_GFAP.1.1000_Iba1.1.1000_10.21.19_20x_zStack_10um_26_Ctx.tif',\n 'Z:/x4_counting/projected_tiffs/AC_10.22.19_Iba1_GFAP_X4_1616E\\\\1613E_Section2_GFAP.1.1000_Iba1.1.1000_10.21.19_20x_zStack_10um_27_Ctx.tif',\n 'Z:/x4_counting/projected_tiffs/AC_10.22.19_Iba1_GFAP_X4_1616E\\\\1613E_Section2_GFAP.1.1000_Iba1.1.1000_10.21.19_20x_zStack_10um_28_Ctx.tif',\n 'Z:/x4_counting/projected_tiffs/AC_10.22.19_Iba1_GFAP_X4_1616E\\\\1613E_Section2_GFAP.1.1000_Iba1.1.1000_10.21.19_20x_zStack_10um_29_Ctx.tif',\n 'Z:/x4_counting/projected_tiffs/AC_10.22.19_Iba1_GFAP_X4_1616E\\\\1613E_Section2_GFAP.1.1000_Iba1.1.1000_10.21.19_20x_zStack_10um_30_Ctx.tif',\n 'Z:/x4_counting/projected_tiffs/AC_10.22.19_Iba1_GFAP_X4_1616E\\\\1613E_Section2_GFAP.1.1000_Iba1.1.1000_10.21.19_20x_zStack_10um_31_Ctx.tif',\n 'Z:/x4_counting/projected_tiffs/AC_10.22.19_Iba1_GFAP_X4_1616E\\\\1613E_Section2_GFAP.1.1000_Iba1.1.1000_10.21.19_20x_zStack_10um_32_Ctx.tif',\n 'Z:/x4_counting/projected_tiffs/AC_10.22.19_Iba1_GFAP_X4_1616E\\\\1613E_Section2_GFAP.1.1000_Iba1.1.1000_10.21.19_20x_zStack_10um_33_Ctx.tif',\n 'Z:/x4_counting/projected_tiffs/AC_10.22.19_Iba1_GFAP_X4_1616E\\\\1613E_Section2_GFAP.1.1000_Iba1.1.1000_10.21.19_20x_zStack_10um_34_Ctx.tif',\n 'Z:/x4_counting/projected_tiffs/AC_10.22.19_Iba1_GFAP_X4_1616E\\\\1613E_Section2_GFAP.1.1000_Iba1.1.1000_10.21.19_20x_zStack_10um_35_Ctx.tif',\n 'Z:/x4_counting/projected_tiffs/AC_10.22.19_Iba1_GFAP_X4_1616E\\\\1613E_Section2_GFAP.1.1000_Iba1.1.1000_10.21.19_20x_zStack_10um_36_Ctx.tif',\n 'Z:/x4_counting/projected_tiffs/AC_10.22.19_Iba1_GFAP_X4_1616E\\\\1613E_Section2_GFAP.1.1000_Iba1.1.1000_10.21.19_20x_zStack_10um_37_Ctx.tif',\n 'Z:/x4_counting/projected_tiffs/AC_10.22.19_Iba1_GFAP_X4_1616E\\\\1613E_Section2_GFAP.1.1000_Iba1.1.1000_10.21.19_20x_zStack_10um_38_Ctx.tif',\n 'Z:/x4_counting/projected_tiffs/AC_10.22.19_Iba1_GFAP_X4_1616E\\\\1613E_Section2_GFAP.1.1000_Iba1.1.1000_10.21.19_20x_zStack_10um_39_Ctx.tif',\n 'Z:/x4_counting/projected_tiffs/AC_10.22.19_Iba1_GFAP_X4_1616E\\\\1613E_Section2_GFAP.1.1000_Iba1.1.1000_10.21.19_20x_zStack_10um_40_Ctx.tif']"
     },
     "execution_count": 7,
     "metadata": {},
     "output_type": "execute_result"
    }
   ],
   "source": [
    "m1616 = ski.io.ImageCollection(os.path.join(im_dir, '*.tif'))\n",
    "m1616.files"
   ]
  },
  {
   "cell_type": "code",
   "execution_count": 8,
   "metadata": {},
   "outputs": [],
   "source": [
    "def plot_3c_tif(image):\n",
    "    print ('Shape: ', image.shape)\n",
    "    print ('Type:', type(image))\n",
    "    print ('Dtype:', image.dtype)\n",
    "\n",
    "    fig, (ax0, ax1, ax2) = plt.subplots(1,3, figsize = (30,10))\n",
    "    ax0.imshow(image[...,0])\n",
    "    ax1.imshow(image[...,1])\n",
    "    ax2.imshow(image[...,2])\n",
    "\n",
    "    return fig"
   ]
  },
  {
   "cell_type": "code",
   "execution_count": 9,
   "metadata": {},
   "outputs": [],
   "source": [
    "def plot_otsu(image):\n",
    "    thresh = ski.filters.threshold_otsu(tcells)\n",
    "    binary = tcells > thresh\n",
    "\n",
    "\n",
    "    fig, axes = plt.subplots(ncols = 3, figsize = (30, 10))\n",
    "    ax = axes.ravel()\n",
    "    ax[0] = plt.subplot(1, 3, 1)\n",
    "    ax[1] = plt.subplot(1, 3, 2)\n",
    "    ax[2] = plt.subplot(1, 3, 3, sharex=ax[0], sharey=ax[0])\n",
    "\n",
    "\n",
    "    ax[0].imshow(tcells)\n",
    "    ax[0].set_title('Original Z Max Project')\n",
    "    ax[0].axis('off')\n",
    "\n",
    "    ax[1].hist(tcells.ravel(), bins = 256) \n",
    "    ax[1].set_title('Histogram')\n",
    "    ax[1].axvline(thresh, color = 'r')\n",
    "\n",
    "    ax[2].imshow(binary) \n",
    "    ax[2].set_title('Thresholded')\n",
    "    ax[2].axis('off')\n",
    "\n",
    "    return "
   ]
  },
  {
   "cell_type": "code",
   "execution_count": 10,
   "metadata": {},
   "outputs": [],
   "source": [
    "def run_log(image, ms=30, ns=10, thresh=.1):\n",
    "    \n",
    "    print('Max Sigma =', ms)\n",
    "    print('Num Sigma =', ns)\n",
    "    print('Threshold =', thresh)\n",
    "\n",
    "    # Find blobs with Laplacian of Gaussian\n",
    "    blobs_log = blob_log(image, max_sigma = ms , num_sigma = ns, threshold = thresh)\n",
    "\n",
    "    # Compute radii in the 3rd column.\n",
    "    blobs_log[:, 2] = blobs_log[:, 2] * sqrt(2)\n",
    "\n",
    "    # Generate figure to check accuracy\n",
    "    fig, (ax0, ax1) = plt.subplots(1, 2, figsize=(20, 10), sharex=True, sharey=True)\n",
    "    ax0.imshow(image)\n",
    "    ax1.imshow(image)\n",
    "    for blob in blobs_log:\n",
    "        y, x, r = blob\n",
    "        c = plt.Circle((x, y), r, color=color, linewidth=2, fill=False)\n",
    "        ax1.add_patch(c)\n",
    "    plt.tight_layout()\n",
    "    plt.show()\n",
    "\n",
    "    # Return fig and blobs_log for counting blobs\n",
    "    return fig, blobs_log"
   ]
  },
  {
   "cell_type": "code",
   "execution_count": 1,
   "metadata": {},
   "outputs": [
    {
     "data": {
      "text/plain": "2"
     },
     "execution_count": 1,
     "metadata": {},
     "output_type": "execute_result"
    }
   ],
   "source": [
    "1+1"
   ]
  },
  {
   "cell_type": "code",
   "execution_count": null,
   "metadata": {},
   "outputs": [],
   "source": []
  }
 ]
}