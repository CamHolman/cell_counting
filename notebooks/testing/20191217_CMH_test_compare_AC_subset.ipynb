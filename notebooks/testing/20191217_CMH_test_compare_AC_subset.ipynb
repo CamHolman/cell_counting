{
 "nbformat": 4,
 "nbformat_minor": 2,
 "metadata": {
  "language_info": {
   "name": "python",
   "codemirror_mode": {
    "name": "ipython",
    "version": 3
   },
   "version": "3.7.4"
  },
  "orig_nbformat": 2,
  "file_extension": ".py",
  "mimetype": "text/x-python",
  "name": "python",
  "npconvert_exporter": "python",
  "pygments_lexer": "ipython3",
  "version": 3
 },
 "cells": [
  {
   "cell_type": "code",
   "execution_count": 1,
   "metadata": {},
   "outputs": [],
   "source": [
    "import cc.count.countcells as cc"
   ]
  },
  {
   "cell_type": "code",
   "execution_count": 3,
   "metadata": {},
   "outputs": [
    {
     "name": "stdout",
     "output_type": "stream",
     "text": "Current index: 0\nCurrent index: 1\nCurrent index: 2\nCurrent index: 3\nCurrent index: 4\nCurrent index: 5\nCurrent index: 6\nCurrent index: 7\nCurrent index: 8\nCurrent index: 9\nCurrent index: 10\nCurrent index: 11\nCurrent index: 12\nCurrent index: 13\nCurrent index: 14\nCurrent index: 15\nCurrent index: 16\nCurrent index: 17\nCurrent index: 18\nCurrent index: 19\nCurrent index: 20\nCurrent index: 21\nCurrent index: 22\nCurrent index: 23\nCurrent index: 24\nCurrent index: 25\nCurrent index: 26\nCurrent index: 27\nCurrent index: 28\nCurrent index: 29\nCurrent index: 30\nCurrent index: 31\nCurrent index: 32\nCurrent index: 33\nCurrent index: 34\nCurrent index: 35\nCurrent index: 36\nCurrent index: 37\nCurrent index: 38\nCurrent index: 39\nCurrent index: 40\nCurrent index: 41\nCurrent index: 42\nCurrent index: 43\nCurrent index: 44\nCurrent index: 45\nCurrent index: 46\nCurrent index: 47\nCurrent index: 48\nCurrent index: 49\nCurrent index: 50\nCurrent index: 51\nCurrent index: 52\nCurrent index: 53\nCurrent index: 54\n"
    }
   ],
   "source": [
    "subdir = 'data/sirt6/test/m87e2'\n",
    "ch87s = cc.collect_cell_counts(subdir)"
   ]
  },
  {
   "cell_type": "code",
   "execution_count": null,
   "metadata": {},
   "outputs": [],
   "source": [
    "import pandas\n",
    "dfch = "
   ]
  }
 ]
}