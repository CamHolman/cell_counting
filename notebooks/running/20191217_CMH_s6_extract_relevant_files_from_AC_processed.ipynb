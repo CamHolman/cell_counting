{
 "nbformat": 4,
 "nbformat_minor": 2,
 "metadata": {
  "language_info": {
   "name": "python",
   "codemirror_mode": {
    "name": "ipython",
    "version": 3
   },
   "version": "3.7.4"
  },
  "orig_nbformat": 2,
  "file_extension": ".py",
  "mimetype": "text/x-python",
  "name": "python",
  "npconvert_exporter": "python",
  "pygments_lexer": "ipython3",
  "version": 3
 },
 "cells": [
  {
   "cell_type": "code",
   "execution_count": 12,
   "metadata": {},
   "outputs": [],
   "source": [
    "# OPTIONAL: Load the \"autoreload\" extension so that code can change\n",
    "%load_ext autoreload\n",
    "\n",
    "# OPTIONAL: always reload modules so that as you change code in src, it gets loaded\n",
    "%autoreload 2\n",
    "\n",
    "import cc.count.countcells as cc"
   ]
  },
  {
   "cell_type": "code",
   "execution_count": 13,
   "metadata": {},
   "outputs": [],
   "source": [
    "im_dir = \"data/sirt6/interim/m87e\"\n",
    "\n",
    "m87E = cc.collect_cell_counts(im_dir)"
   ]
  },
  {
   "cell_type": "code",
   "execution_count": 14,
   "metadata": {},
   "outputs": [
    {
     "data": {
      "text/plain": "[]"
     },
     "execution_count": 14,
     "metadata": {},
     "output_type": "execute_result"
    }
   ],
   "source": [
    "m87E"
   ]
  },
  {
   "cell_type": "code",
   "execution_count": 32,
   "metadata": {},
   "outputs": [
    {
     "data": {
      "text/plain": "9_20x_zStack_10um_tiles_ctx_6(1).czi #2.tif',\n 'data/sirt6/interim/m87e/Section2_hemi2/ctx_6/MAX_C2-87E_Section2_hemi2_GFAP.1.1000_Iba1.1.1000_10.21.19_20x_zStack...000_Iba1.1.1000_10.21.19_20x_zStack_10um_tiles_ctx_6(1).czi #3.tif',\n 'data/sirt6/interim/m87e/Section2_hemi2/ctx_6/MAX_C2-87E_Section2_hemi2_GFAP.1.1000_Iba1.1.1000_10.21.19_20x_zStack...000_Iba1.1.1000_10.21.19_20x_zStack_10um_tiles_ctx_6(1).czi #4.tif',\n 'data/sirt6/interim/m87e/Section2_hemi2/ctx_6/MAX_C2-87E_Section2_hemi2_GFAP.1.1000_Iba1.1.1000_10.21.19_20x_zStack...000_Iba1.1.1000_10.21.19_20x_zStack_10um_tiles_ctx_6(1).czi #5.tif',\n 'data/sirt6/interim/m87e/Section2_hemi2/ctx_6/MAX_C2-87E_Section2_hemi2_GFAP.1.1000_Iba1.1.1000_10.21.19_20x_zStack...000_Iba1.1.1000_10.21.19_20x_zStack_10um_tiles_ctx_6(1).czi #6.tif',\n 'data/sirt6/interim/m87e/Section2_hemi2/ctx_6/MAX_C2-87E_Section2_hemi2_GFAP.1.1000_Iba1.1.1000_10.21.19_20x_zStack...000_Iba1.1.1000_10.21.19_20x_zStack_10um_tiles_ctx_6(1).czi #7.tif',\n 'data/sirt6/interim/m87e/Section2_hemi2/ctx_6/MAX_C2-87E_Section2_hemi2_GFAP.1.1000_Iba1.1.1000_10.21.19_20x_zStack...000_Iba1.1.1000_10.21.19_20x_zStack_10um_tiles_ctx_6(1).czi #8.tif',\n 'data/sirt6/interim/m87e/Section2_hemi2/ctx_6/MAX_C2-87E_Section2_hemi2_GFAP.1.1000_Iba1.1.1000_10.21.19_20x_zStack...000_Iba1.1.1000_10.21.19_20x_zStack_10um_tiles_ctx_6(1).czi #9.tif',\n 'data/sirt6/interim/m87e/Section2_hemi2/ctx_7/MAX_C2-87E_Section2_hemi2_GFAP.1.1000_Iba1.1.1000_10.21.19_20x_zStack...000_Iba1.1.1000_10.21.19_20x_zStack_10um_tiles_ctx_7(1).czi #1.tif',\n 'data/sirt6/interim/m87e/Section2_hemi2/ctx_7/MAX_C2-87E_Section2_hemi2_GFAP.1.1000_Iba1.1.1000_10.21.19_20x_zStack...000_Iba1.1.1000_10.21.19_20x_zStack_10um_tiles_ctx_7(1).czi #2.tif',\n 'data/sirt6/interim/m87e/Section2_hemi2/ctx_7/MAX_C2-87E_Section2_hemi2_GFAP.1.1000_Iba1.1.1000_10.21.19_20x_zStack...000_Iba1.1.1000_10.21.19_20x_zStack_10um_tiles_ctx_7(1).czi #3.tif',\n 'data/sirt6/interim/m87e/Section2_hemi2/ctx_7/MAX_C2-87E_Section2_hemi2_GFAP.1.1000_Iba1.1.1000_10.21.19_20x_zStack...000_Iba1.1.1000_10.21.19_20x_zStack_10um_tiles_ctx_7(1).czi #4.tif',\n 'data/sirt6/interim/m87e/Section2_hemi2/ctx_7/MAX_C2-87E_Section2_hemi2_GFAP.1.1000_Iba1.1.1000_10.21.19_20x_zStack...000_Iba1.1.1000_10.21.19_20x_zStack_10um_tiles_ctx_7(1).czi #5.tif',\n 'data/sirt6/interim/m87e/Section2_hemi2/ctx_7/MAX_C2-87E_Section2_hemi2_GFAP.1.1000_Iba1.1.1000_10.21.19_20x_zStack...000_Iba1.1.1000_10.21.19_20x_zStack_10um_tiles_ctx_7(1).czi #6.tif',\n 'data/sirt6/interim/m87e/Section2_hemi2/ctx_7/MAX_C2-87E_Section2_hemi2_GFAP.1.1000_Iba1.1.1000_10.21.19_20x_zStack...000_Iba1.1.1000_10.21.19_20x_zStack_10um_tiles_ctx_7(1).czi #7.tif',\n 'data/sirt6/interim/m87e/Section2_hemi2/ctx_7/MAX_C2-87E_Section2_hemi2_GFAP.1.1000_Iba1.1.1000_10.21.19_20x_zStack...000_Iba1.1.1000_10.21.19_20x_zStack_10um_tiles_ctx_7(1).czi #8.tif',\n 'data/sirt6/interim/m87e/Section2_hemi2/ctx_7/MAX_C2-87E_Section2_hemi2_GFAP.1.1000_Iba1.1.1000_10.21.19_20x_zStack...000_Iba1.1.1000_10.21.19_20x_zStack_10um_tiles_ctx_7(1).czi #9.tif',\n 'data/sirt6/interim/m87e/Section2_hemi2/ctx_8/MAX_C2-87E_Section2_hemi2_GFAP.1.1000_Iba1.1.1000_10.21.19_20x_zStack...000_Iba1.1.1000_10.21.19_20x_zStack_10um_tiles_ctx_8(1).czi #1.tif',\n 'data/sirt6/interim/m87e/Section2_hemi2/ctx_8/MAX_C2-87E_Section2_hemi2_GFAP.1.1000_Iba1.1.1000_10.21.19_20x_zStack...000_Iba1.1.1000_10.21.19_20x_zStack_10um_tiles_ctx_8(1).czi #2.tif',\n 'data/sirt6/interim/m87e/Section2_hemi2/ctx_8/MAX_C2-87E_Section2_hemi2_GFAP.1.1000_Iba1.1.1000_10.21.19_20x_zStack...000_Iba1.1.1000_10.21.19_20x_zStack_10um_tiles_ctx_8(1).czi #3.tif',\n 'data/sirt6/interim/m87e/Section2_hemi2/ctx_8/MAX_C2-87E_Section2_hemi2_GFAP.1.1000_Iba1.1.1000_10.21.19_20x_zStack...000_Iba1.1.1000_10.21.19_20x_zStack_10um_tiles_ctx_8(1).czi #4.tif',\n 'data/sirt6/interim/m87e/Section2_hemi2/ctx_8/MAX_C2-87E_Section2_hemi2_GFAP.1.1000_Iba1.1.1000_10.21.19_20x_zStack...000_Iba1.1.1000_10.21.19_20x_zStack_10um_tiles_ctx_8(1).czi #5.tif',\n 'data/sirt6/interim/m87e/Section2_hemi2/ctx_8/MAX_C2-87E_Section2_hemi2_GFAP.1.1000_Iba1.1.1000_10.21.19_20x_zStack...000_Iba1.1.1000_10.21.19_20x_zStack_10um_tiles_ctx_8(1).czi #6.tif',\n 'data/sirt6/interim/m87e/Section2_hemi2/ctx_8/MAX_C2-87E_Section2_hemi2_GFAP.1.1000_Iba1.1.1000_10.21.19_20x_zStack...000_Iba1.1.1000_10.21.19_20x_zStack_10um_tiles_ctx_8(1).czi #7.tif',\n 'data/sirt6/interim/m87e/Section2_hemi2/ctx_8/MAX_C2-87E_Section2_hemi2_GFAP.1.1000_Iba1.1.1000_10.21.19_20x_zStack...000_Iba1.1.1000_10.21.19_20x_zStack_10um_tiles_ctx_8(1).czi #8.tif',\n 'data/sirt6/interim/m87e/Section2_hemi2/ctx_8/MAX_C2-87E_Section2_hemi2_GFAP.1.1000_Iba1.1.1000_10.21.19_20x_zStack...000_Iba1.1.1000_10.21.19_20x_zStack_10um_tiles_ctx_8(1).czi #9.tif',\n 'data/sirt6/interim/m87e/Section2_hemi2/ctx_8/MAX_C2-87E_Section2_hemi2_GFAP.1.1000_Iba1.1.1000_10.21.19_20x_zStack...000_Iba1.1.1000_10.21.19_20x_zStack_10um_tiles_ctx_9(1).czi #9.tif',\n 'data/sirt6/interim/m87e/Section2_hemi2/ctx_9/MAX_C2-87E_Section2_hemi2_GFAP.1.1000_Iba1.1.1000_10.21.19_20x_zStack...000_Iba1.1.1000_10.21.19_20x_zStack_10um_tiles_ctx_9(1).czi #1.tif',\n 'data/sirt6/interim/m87e/Section2_hemi2/ctx_9/MAX_C2-87E_Section2_hemi2_GFAP.1.1000_Iba1.1.1000_10.21.19_20x_zStack...000_Iba1.1.1000_10.21.19_20x_zStack_10um_tiles_ctx_9(1).czi #2.tif',\n 'data/sirt6/interim/m87e/Section2_hemi2/ctx_9/MAX_C2-87E_Section2_hemi2_GFAP.1.1000_Iba1.1.1000_10.21.19_20x_zStack...000_Iba1.1.1000_10.21.19_20x_zStack_10um_tiles_ctx_9(1).czi #3.tif',\n 'data/sirt6/interim/m87e/Section2_hemi2/ctx_9/MAX_C2-87E_Section2_hemi2_GFAP.1.1000_Iba1.1.1000_10.21.19_20x_zStack...000_Iba1.1.1000_10.21.19_20x_zStack_10um_tiles_ctx_9(1).czi #4.tif',\n 'data/sirt6/interim/m87e/Section2_hemi2/ctx_9/MAX_C2-87E_Section2_hemi2_GFAP.1.1000_Iba1.1.1000_10.21.19_20x_zStack...000_Iba1.1.1000_10.21.19_20x_zStack_10um_tiles_ctx_9(1).czi #5.tif',\n 'data/sirt6/interim/m87e/Section2_hemi2/ctx_9/MAX_C2-87E_Section2_hemi2_GFAP.1.1000_Iba1.1.1000_10.21.19_20x_zStack...000_Iba1.1.1000_10.21.19_20x_zStack_10um_tiles_ctx_9(1).czi #6.tif',\n 'data/sirt6/interim/m87e/Section2_hemi2/ctx_9/MAX_C2-87E_Section2_hemi2_GFAP.1.1000_Iba1.1.1000_10.21.19_20x_zStack...000_Iba1.1.1000_10.21.19_20x_zStack_10um_tiles_ctx_9(1).czi #7.tif',\n 'data/sirt6/interim/m87e/Section2_hemi2/ctx_9/MAX_C2-87E_Section2_hemi2_GFAP.1.1000_Iba1.1.1000_10.21.19_20x_zStack...000_Iba1.1.1000_10.21.19_20x_zStack_10um_tiles_ctx_9(1).czi #8.tif',\n 'data/sirt6/interim/m87e/Section2_hemi2/hip_1/MAX_C2-87E_Section2_hemi2_GFAP.1.1000_Iba1.1.1000_10.21.19_20x_zStack...000_Iba1.1.1000_10.21.19_20x_zStack_10um_tiles_hip_1(1).czi #1.tif',\n 'data/sirt6/interim/m87e/Section2_hemi2/hip_1/MAX_C2-87E_Section2_hemi2_GFAP.1.1000_Iba1.1.1000_10.21.19_20x_zStack...000_Iba1.1.1000_10.21.19_20x_zStack_10um_tiles_hip_1(1).czi #2.tif',\n 'data/sirt6/interim/m87e/Section2_hemi2/hip_1/MAX_C2-87E_Section2_hemi2_GFAP.1.1000_Iba1.1.1000_10.21.19_20x_zStack...000_Iba1.1.1000_10.21.19_20x_zStack_10um_tiles_hip_1(1).czi #3.tif',\n 'data/sirt6/interim/m87e/Section2_hemi2/hip_1/MAX_C2-87E_Section2_hemi2_GFAP.1.1000_Iba1.1.1000_10.21.19_20x_zStack...000_Iba1.1.1000_10.21.19_20x_zStack_10um_tiles_hip_1(1).czi #4.tif',\n 'data/sirt6/interim/m87e/Section2_hemi2/hip_1/MAX_C2-87E_Section2_hemi2_GFAP.1.1000_Iba1.1.1000_10.21.19_20x_zStack...000_Iba1.1.1000_10.21.19_20x_zStack_10um_tiles_hip_1(1).czi #5.tif',\n 'data/sirt6/interim/m87e/Section2_hemi2/hip_1/MAX_C2-87E_Section2_hemi2_GFAP.1.1000_Iba1.1.1000_10.21.19_20x_zStack...000_Iba1.1.1000_10.21.19_20x_zStack_10um_tiles_hip_1(1).czi #6.tif',\n 'data/sirt6/interim/m87e/Section2_hemi2/hip_1/MAX_C2-87E_Section2_hemi2_GFAP.1.1000_Iba1.1.1000_10.21.19_20x_zStack...000_Iba1.1.1000_10.21.19_20x_zStack_10um_tiles_hip_1(1).czi #7.tif',\n 'data/sirt6/interim/m87e/Section2_hemi2/hip_1/MAX_C2-87E_Section2_hemi2_GFAP.1.1000_Iba1.1.1000_10.21.19_20x_zStack...000_Iba1.1.1000_10.21.19_20x_zStack_10um_tiles_hip_1(1).czi #8.tif',\n 'data/sirt6/interim/m87e/Section2_hemi2/hip_1/MAX_C2-87E_Section2_hemi2_GFAP.1.1000_Iba1.1.1000_10.21.19_20x_zStack...000_Iba1.1.1000_10.21.19_20x_zStack_10um_tiles_hip_1(1).czi #9.tif',\n 'data/sirt6/interim/m87e/Section2_hemi2/hip_2/MAX_C2-87E_Section2_hemi2_GFAP.1.1000_Iba1.1.1000_10.21.19_20x_zStack...000_Iba1.1.1000_10.21.19_20x_zStack_10um_tiles_hip_2(1).czi #1.tif',\n 'data/sirt6/interim/m87e/Section2_hemi2/hip_2/MAX_C2-87E_Section2_hemi2_GFAP.1.1000_Iba1.1.1000_10.21.19_20x_zStack...000_Iba1.1.1000_10.21.19_20x_zStack_10um_tiles_hip_2(1).czi #2.tif',\n 'data/sirt6/interim/m87e/Section2_hemi2/hip_2/MAX_C2-87E_Section2_hemi2_GFAP.1.1000_Iba1.1.1000_10.21.19_20x_zStack...000_Iba1.1.1000_10.21.19_20x_zStack_10um_tiles_hip_2(1).czi #3.tif',\n 'data/sirt6/interim/m87e/Section2_hemi2/hip_2/MAX_C2-87E_Section2_hemi2_GFAP.1.1000_Iba1.1.1000_10.21.19_20x_zStack...000_Iba1.1.1000_10.21.19_20x_zStack_10um_tiles_hip_2(1).czi #4.tif',\n 'data/sirt6/interim/m87e/Section2_hemi2/hip_2/MAX_C2-87E_Section2_hemi2_GFAP.1.1000_Iba1.1.1000_10.21.19_20x_zStack...000_Iba1.1.1000_10.21.19_20x_zStack_10um_tiles_hip_2(1).czi #5.tif',\n 'data/sirt6/interim/m87e/Section2_hemi2/hip_2/MAX_C2-87E_Section2_hemi2_GFAP.1.1000_Iba1.1.1000_10.21.19_20x_zStack...000_Iba1.1.1000_10.21.19_20x_zStack_10um_tiles_hip_2(1).czi #6.tif',\n 'data/sirt6/interim/m87e/Section2_hemi2/hip_2/MAX_C2-87E_Section2_hemi2_GFAP.1.1000_Iba1.1.1000_10.21.19_20x_zStack...000_Iba1.1.1000_10.21.19_20x_zStack_10um_tiles_hip_2(1).czi #7.tif',\n 'data/sirt6/interim/m87e/Section2_hemi2/hip_2/MAX_C2-87E_Section2_hemi2_GFAP.1.1000_Iba1.1.1000_10.21.19_20x_zStack...000_Iba1.1.1000_10.21.19_20x_zStack_10um_tiles_hip_2(1).czi #8.tif',\n 'data/sirt6/interim/m87e/Section2_hemi2/hip_2/MAX_C2-87E_Section2_hemi2_GFAP.1.1000_Iba1.1.1000_10.21.19_20x_zStack...000_Iba1.1.1000_10.21.19_20x_zStack_10um_tiles_hip_2(1).czi #9.tif',\n 'data/sirt6/interim/m87e/Section2_hemi2/hip_3/MAX_C2-87E_Section2_hemi2_GFAP.1.1000_Iba1.1.1000_10.21.19_20x_zStack...000_Iba1.1.1000_10.21.19_20x_zStack_10um_tiles_hip_3(1).czi #1.tif',\n 'data/sirt6/interim/m87e/Section2_hemi2/hip_3/MAX_C2-87E_Section2_hemi2_GFAP.1.1000_Iba1.1.1000_10.21.19_20x_zStack...000_Iba1.1.1000_10.21.19_20x_zStack_10um_tiles_hip_3(1).czi #2.tif',\n 'data/sirt6/interim/m87e/Section2_hemi2/hip_3/MAX_C2-87E_Section2_hemi2_GFAP.1.1000_Iba1.1.1000_10.21.19_20x_zStack...000_Iba1.1.1000_10.21.19_20x_zStack_10um_tiles_hip_3(1).czi #3.tif',\n 'data/sirt6/interim/m87e/Section2_hemi2/hip_3/MAX_C2-87E_Section2_hemi2_GFAP.1.1000_Iba1.1.1000_10.21.19_20x_zStack...000_Iba1.1.1000_10.21.19_20x_zStack_10um_tiles_hip_3(1).czi #4.tif',\n 'data/sirt6/interim/m87e/Section2_hemi2/hip_3/MAX_C2-87E_Section2_hemi2_GFAP.1.1000_Iba1.1.1000_10.21.19_20x_zStack...000_Iba1.1.1000_10.21.19_20x_zStack_10um_tiles_hip_3(1).czi #5.tif',\n 'data/sirt6/interim/m87e/Section2_hemi2/hip_3/MAX_C2-87E_Section2_hemi2_GFAP.1.1000_Iba1.1.1000_10.21.19_20x_zStack...000_Iba1.1.1000_10.21.19_20x_zStack_10um_tiles_hip_3(1).czi #6.tif',\n 'data/sirt6/interim/m87e/Section2_hemi2/hip_3/MAX_C2-87E_Section2_hemi2_GFAP.1.1000_Iba1.1.1000_10.21.19_20x_zStack...000_Iba1.1.1000_10.21.19_20x_zStack_10um_tiles_hip_3(1).czi #7.tif',\n 'data/sirt6/interim/m87e/Section2_hemi2/hip_3/MAX_C2-87E_Section2_hemi2_GFAP.1.1000_Iba1.1.1000_10.21.19_20x_zStack...000_Iba1.1.1000_10.21.19_20x_zStack_10um_tiles_hip_3(1).czi #8.tif',\n 'data/sirt6/interim/m87e/Section2_hemi2/hip_3/MAX_C2-87E_Section2_hemi2_GFAP.1.1000_Iba1.1.1000_10.21.19_20x_zStack...000_Iba1.1.1000_10.21.19_20x_zStack_10um_tiles_hip_3(1).czi #9.tif',\n 'data/sirt6/interim/m87e/Section2_hemi2/hip_4/MAX_C2-87E_Section2_hemi2_GFAP.1.1000_Iba1.1.1000_10.21.19_20x_zStack...000_Iba1.1.1000_10.21.19_20x_zStack_10um_tiles_hip_4(1).czi #1.tif',\n 'data/sirt6/interim/m87e/Section2_hemi2/hip_4/MAX_C2-87E_Section2_hemi2_GFAP.1.1000_Iba1.1.1000_10.21.19_20x_zStack...000_Iba1.1.1000_10.21.19_20x_zStack_10um_tiles_hip_4(1).czi #2.tif',\n 'data/sirt6/interim/m87e/Section2_hemi2/hip_4/MAX_C2-87E_Section2_hemi2_GFAP.1.1000_Iba1.1.1000_10.21.19_20x_zStack...000_Iba1.1.1000_10.21.19_20x_zStack_10um_tiles_hip_4(1).czi #3.tif',\n 'data/sirt6/interim/m87e/Section2_hemi2/hip_4/MAX_C2-87E_Section2_hemi2_GFAP.1.1000_Iba1.1.1000_10.21.19_20x_zStack...000_Iba1.1.1000_10.21.19_20x_zStack_10um_tiles_hip_4(1).czi #4.tif',\n 'data/sirt6/interim/m87e/Section2_hemi2/hip_4/MAX_C2-87E_Section2_hemi2_GFAP.1.1000_Iba1.1.1000_10.21.19_20x_zStack...000_Iba1.1.1000_10.21.19_20x_zStack_10um_tiles_hip_4(1).czi #5.tif',\n 'data/sirt6/interim/m87e/Section2_hemi2/hip_4/MAX_C2-87E_Section2_hemi2_GFAP.1.1000_Iba1.1.1000_10.21.19_20x_zStack...000_Iba1.1.1000_10.21.19_20x_zStack_10um_tiles_hip_4(1).czi #6.tif',\n 'data/sirt6/interim/m87e/Section2_hemi2/hip_4/MAX_C2-87E_Section2_hemi2_GFAP.1.1000_Iba1.1.1000_10.21.19_20x_zStack...000_Iba1.1.1000_10.21.19_20x_zStack_10um_tiles_hip_4(1).czi #7.tif',\n 'data/sirt6/interim/m87e/Section2_hemi2/hip_4/MAX_C2-87E_Section2_hemi2_GFAP.1.1000_Iba1.1.1000_10.21.19_20x_zStack...000_Iba1.1.1000_10.21.19_20x_zStack_10um_tiles_hip_4(1).czi #8.tif',\n 'data/sirt6/interim/m87e/Section2_hemi2/hip_4/MAX_C2-87E_Section2_hemi2_GFAP.1.1000_Iba1.1.1000_10.21.19_20x_zStack...000_Iba1.1.1000_10.21.19_20x_zStack_10um_tiles_hip_4(1).czi #9.tif',\n 'data/sirt6/interim/m87e/Section2_hemi2/hip_5/MAX_C2-87E_Section2_hemi2_GFAP.1.1000_Iba1.1.1000_10.21.19_20x_zStack...000_Iba1.1.1000_10.21.19_20x_zStack_10um_tiles_hip_5(1).czi #1.tif',\n 'data/sirt6/interim/m87e/Section2_hemi2/hip_5/MAX_C2-87E_Section2_hemi2_GFAP.1.1000_Iba1.1.1000_10.21.19_20x_zStack...000_Iba1.1.1000_10.21.19_20x_zStack_10um_tiles_hip_5(1).czi #2.tif',\n 'data/sirt6/interim/m87e/Section2_hemi2/hip_5/MAX_C2-87E_Section2_hemi2_GFAP.1.1000_Iba1.1.1000_10.21.19_20x_zStack...000_Iba1.1.1000_10.21.19_20x_zStack_10um_tiles_hip_5(1).czi #3.tif',\n 'data/sirt6/interim/m87e/Section2_hemi2/hip_5/MAX_C2-87E_Section2_hemi2_GFAP.1.1000_Iba1.1.1000_10.21.19_20x_zStack...000_Iba1.1.1000_10.21.19_20x_zStack_10um_tiles_hip_5(1).czi #4.tif',\n 'data/sirt6/interim/m87e/Section2_hemi2/hip_5/MAX_C2-87E_Section2_hemi2_GFAP.1.1000_Iba1.1.1000_10.21.19_20x_zStack...000_Iba1.1.1000_10.21.19_20x_zStack_10um_tiles_hip_5(1).czi #5.tif',\n 'data/sirt6/interim/m87e/Section2_hemi2/hip_5/MAX_C2-87E_Section2_hemi2_GFAP.1.1000_Iba1.1.1000_10.21.19_20x_zStack...000_Iba1.1.1000_10.21.19_20x_zStack_10um_tiles_hip_5(1).czi #6.tif',\n 'data/sirt6/interim/m87e/Section2_hemi2/hip_5/MAX_C2-87E_Section2_hemi2_GFAP.1.1000_Iba1.1.1000_10.21.19_20x_zStack...000_Iba1.1.1000_10.21.19_20x_zStack_10um_tiles_hip_5(1).czi #7.tif',\n 'data/sirt6/interim/m87e/Section2_hemi2/hip_5/MAX_C2-87E_Section2_hemi2_GFAP.1.1000_Iba1.1.1000_10.21.19_20x_zStack...000_Iba1.1.1000_10.21.19_20x_zStack_10um_tiles_hip_5(1).czi #8.tif',\n 'data/sirt6/interim/m87e/Section2_hemi2/hip_5/MAX_C2-87E_Section2_hemi2_GFAP.1.1000_Iba1.1.1000_10.21.19_20x_zStack...000_Iba1.1.1000_10.21.19_20x_zStack_10um_tiles_hip_5(1).czi #9.tif',\n 'data/sirt6/interim/m87e/Section2_hemi2/hip_6/MAX_C2-87E_Section2_hemi2_GFAP.1.1000_Iba1.1.1000_10.21.19_20x_zStack...000_Iba1.1.1000_10.21.19_20x_zStack_10um_tiles_hip_6(1).czi #1.tif',\n 'data/sirt6/interim/m87e/Section2_hemi2/hip_6/MAX_C2-87E_Section2_hemi2_GFAP.1.1000_Iba1.1.1000_10.21.19_20x_zStack...000_Iba1.1.1000_10.21.19_20x_zStack_10um_tiles_hip_6(1).czi #2.tif',\n 'data/sirt6/interim/m87e/Section2_hemi2/hip_6/MAX_C2-87E_Section2_hemi2_GFAP.1.1000_Iba1.1.1000_10.21.19_20x_zStack...000_Iba1.1.1000_10.21.19_20x_zStack_10um_tiles_hip_6(1).czi #3.tif',\n 'data/sirt6/interim/m87e/Section2_hemi2/hip_6/MAX_C2-87E_Section2_hemi2_GFAP.1.1000_Iba1.1.1000_10.21.19_20x_zStack...000_Iba1.1.1000_10.21.19_20x_zStack_10um_tiles_hip_6(1).czi #4.tif',\n 'data/sirt6/interim/m87e/Section2_hemi2/hip_6/MAX_C2-87E_Section2_hemi2_GFAP.1.1000_Iba1.1.1000_10.21.19_20x_zStack...000_Iba1.1.1000_10.21.19_20x_zStack_10um_tiles_hip_6(1).czi #5.tif',\n 'data/sirt6/interim/m87e/Section2_hemi2/hip_6/MAX_C2-87E_Section2_hemi2_GFAP.1.1000_Iba1.1.1000_10.21.19_20x_zStack...000_Iba1.1.1000_10.21.19_20x_zStack_10um_tiles_hip_6(1).czi #6.tif',\n 'data/sirt6/interim/m87e/Section2_hemi2/hip_6/MAX_C2-87E_Section2_hemi2_GFAP.1.1000_Iba1.1.1000_10.21.19_20x_zStack...000_Iba1.1.1000_10.21.19_20x_zStack_10um_tiles_hip_6(1).czi #7.tif',\n 'data/sirt6/interim/m87e/Section2_hemi2/hip_6/MAX_C2-87E_Section2_hemi2_GFAP.1.1000_Iba1.1.1000_10.21.19_20x_zStack...000_Iba1.1.1000_10.21.19_20x_zStack_10um_tiles_hip_6(1).czi #8.tif',\n 'data/sirt6/interim/m87e/Section2_hemi2/hip_6/MAX_C2-87E_Section2_hemi2_GFAP.1.1000_Iba1.1.1000_10.21.19_20x_zStack...000_Iba1.1.1000_10.21.19_20x_zStack_10um_tiles_hip_6(1).czi #9.tif',\n 'data/sirt6/interim/m87e/Section2_hemi2/hip_7/MAX_C2-87E_Section2_hemi2_GFAP.1.1000_Iba1.1.1000_10.21.19_20x_zStack...000_Iba1.1.1000_10.21.19_20x_zStack_10um_tiles_hip_7(1).czi #1.tif',\n 'data/sirt6/interim/m87e/Section2_hemi2/hip_7/MAX_C2-87E_Section2_hemi2_GFAP.1.1000_Iba1.1.1000_10.21.19_20x_zStack...000_Iba1.1.1000_10.21.19_20x_zStack_10um_tiles_hip_7(1).czi #2.tif',\n 'data/sirt6/interim/m87e/Section2_hemi2/hip_7/MAX_C2-87E_Section2_hemi2_GFAP.1.1000_Iba1.1.1000_10.21.19_20x_zStack...000_Iba1.1.1000_10.21.19_20x_zStack_10um_tiles_hip_7(1).czi #3.tif',\n 'data/sirt6/interim/m87e/Section2_hemi2/hip_7/MAX_C2-87E_Section2_hemi2_GFAP.1.1000_Iba1.1.1000_10.21.19_20x_zStack...000_Iba1.1.1000_10.21.19_20x_zStack_10um_tiles_hip_7(1).czi #4.tif',\n 'data/sirt6/interim/m87e/Section2_hemi2/hip_7/MAX_C2-87E_Section2_hemi2_GFAP.1.1000_Iba1.1.1000_10.21.19_20x_zStack...000_Iba1.1.1000_10.21.19_20x_zStack_10um_tiles_hip_7(1).czi #5.tif',\n 'data/sirt6/interim/m87e/Section2_hemi2/hip_7/MAX_C2-87E_Section2_hemi2_GFAP.1.1000_Iba1.1.1000_10.21.19_20x_zStack...000_Iba1.1.1000_10.21.19_20x_zStack_10um_tiles_hip_7(1).czi #6.tif',\n 'data/sirt6/interim/m87e/Section2_hemi2/hip_7/MAX_C2-87E_Section2_hemi2_GFAP.1.1000_Iba1.1.1000_10.21.19_20x_zStack...000_Iba1.1.1000_10.21.19_20x_zStack_10um_tiles_hip_7(1).czi #7.tif',\n 'data/sirt6/interim/m87e/Section2_hemi2/hip_7/MAX_C2-87E_Section2_hemi2_GFAP.1.1000_Iba1.1.1000_10.21.19_20x_zStack...000_Iba1.1.1000_10.21.19_20x_zStack_10um_tiles_hip_7(1).czi #8.tif',\n 'data/sirt6/interim/m87e/Section2_hemi2/hip_7/MAX_C2-87E_Section2_hemi2_GFAP.1.1000_Iba1.1.1000_10.21.19_20x_zStack...000_Iba1.1.1000_10.21.19_20x_zStack_10um_tiles_hip_7(1).czi #9.tif',\n 'data/sirt6/interim/m87e/Section2_hemi2/tiles_10/MAX_C2-87E_Section2_hemi2_GFAP.1.1000_Iba1.1.1000_10.21.19_20x_zStack...1.1000_Iba1.1.1000_10.21.19_20x_zStack_10um_tiles_10(1).czi #1.tif',\n 'data/sirt6/interim/m87e/Section2_hemi2/tiles_10/MAX_C2-87E_Section2_hemi2_GFAP.1.1000_Iba1.1.1000_10.21.19_20x_zStack...1.1000_Iba1.1.1000_10.21.19_20x_zStack_10um_tiles_10(1).czi #2.tif',\n 'data/sirt6/interim/m87e/Section2_hemi2/tiles_10/MAX_C2-87E_Section2_hemi2_GFAP.1.1000_Iba1.1.1000_10.21.19_20x_zStack...1.1000_Iba1.1.1000_10.21.19_20x_zStack_10um_tiles_10(1).czi #3.tif',\n 'data/sirt6/interim/m87e/Section2_hemi2/tiles_10/MAX_C2-87E_Section2_hemi2_GFAP.1.1000_Iba1.1.1000_10.21.19_20x_zStack...1.1000_Iba1.1.1000_10.21.19_20x_zStack_10um_tiles_10(1).czi #4.tif',\n 'data/sirt6/interim/m87e/Section2_hemi2/tiles_10/MAX_C2-87E_Section2_hemi2_GFAP.1.1000_Iba1.1.1000_10.21.19_20x_zStack...1.1000_Iba1.1.1000_10.21.19_20x_zStack_10um_tiles_10(1).czi #5.tif',\n 'data/sirt6/interim/m87e/Section2_hemi2/tiles_10/MAX_C2-87E_Section2_hemi2_GFAP.1.1000_Iba1.1.1000_10.21.19_20x_zStack...1.1000_Iba1.1.1000_10.21.19_20x_zStack_10um_tiles_10(1).czi #6.tif',\n 'data/sirt6/interim/m87e/Section2_hemi2/tiles_10/MAX_C2-87E_Section2_hemi2_GFAP.1.1000_Iba1.1.1000_10.21.19_20x_zStack...1.1000_Iba1.1.1000_10.21.19_20x_zStack_10um_tiles_10(1).czi #7.tif',\n 'data/sirt6/interim/m87e/Section2_hemi2/tiles_10/MAX_C2-87E_Section2_hemi2_GFAP.1.1000_Iba1.1.1000_10.21.19_20x_zStack...1.1000_Iba1.1.1000_10.21.19_20x_zStack_10um_tiles_10(1).czi #8.tif',\n 'data/sirt6/interim/m87e/Section2_hemi2/tiles_10/MAX_C2-87E_Section2_hemi2_GFAP.1.1000_Iba1.1.1000_10.21.19_20x_zStack...1.1000_Iba1.1.1000_10.21.19_20x_zStack_10um_tiles_10(1).czi #9.tif']"
     },
     "execution_count": 32,
     "metadata": {},
     "output_type": "execute_result"
    }
   ],
   "source": [
    "## All files in different stucture than before\n",
    "\n",
    "import os\n",
    "\n",
    "dirName = \"data/sirt6/interim/m87e\"\n",
    "# Get the list of all files in directory tree at given path\n",
    "listOfFiles = []\n",
    "for (dirpath, dirnames, filenames) in os.walk(dirName):\n",
    "    listOfFiles += [os.path.join(dirpath, file).replace(\"\\\\\",\"/\") for file in filenames]\n",
    "\n",
    "\n",
    "c2_list = []\n",
    "for file in listOfFiles:\n",
    "    if (file.endswith('.tif') and \"MAX_C2\" in file and not \"Counter\" in file) is True:\n",
    "        c2_list += [file]\n",
    "\n",
    "c2_list"
   ]
  },
  {
   "cell_type": "code",
   "execution_count": 33,
   "metadata": {},
   "outputs": [
    {
     "data": {
      "text/plain": "2454"
     },
     "execution_count": 33,
     "metadata": {},
     "output_type": "execute_result"
    }
   ],
   "source": [
    "len(listOfFiles)"
   ]
  },
  {
   "cell_type": "code",
   "execution_count": 34,
   "metadata": {},
   "outputs": [
    {
     "data": {
      "text/plain": "591"
     },
     "execution_count": 34,
     "metadata": {},
     "output_type": "execute_result"
    }
   ],
   "source": [
    "len(c2_list)"
   ]
  },
  {
   "cell_type": "code",
   "execution_count": 35,
   "metadata": {},
   "outputs": [],
   "source": [
    "import shutil\n",
    "\n",
    "targ_dir = \"data/sirt6/processed/m87E\"\n",
    "for file in c2_list:\n",
    "    shutil.copyfile(file, os.path.join(targ_dir, os.path.basename(file)))\n"
   ]
  },
  {
   "cell_type": "code",
   "execution_count": 38,
   "metadata": {},
   "outputs": [
    {
     "name": "stdout",
     "output_type": "stream",
     "text": "[]\n"
    },
    {
     "data": {
      "text/plain": "[]"
     },
     "execution_count": 38,
     "metadata": {},
     "output_type": "execute_result"
    }
   ],
   "source": [
    "dirName = \"data/sirt6/iterim/m91e\"\n",
    "# Get the list of all files in directory tree at given path\n",
    "listOfFiles = []\n",
    "for (dirpath, dirnames, filenames) in os.walk(dirName):\n",
    "    listOfFiles += [os.path.join(dirpath, file).replace(\"\\\\\",\"/\") for file in filenames]\n",
    "\n",
    "print (listOfFiles)\n",
    "\n",
    "c2_list = []\n",
    "for file in listOfFiles:\n",
    "    if (file.endswith('.tif') and \"MAX_C2\" in file) is True:\n",
    "        c2_list += [file]\n",
    "\n",
    "c2_list\n",
    "\n"
   ]
  },
  {
   "cell_type": "code",
   "execution_count": null,
   "metadata": {},
   "outputs": [],
   "source": [
    "targ_dir = \"data/sirt6/processed/m91e\"\n",
    "for file in c2_list:\n",
    "    shutil.copyfile(file, os.path.join(targ_dir, os.path.basename(file)))"
   ]
  },
  {
   "cell_type": "code",
   "execution_count": 39,
   "metadata": {},
   "outputs": [
    {
     "data": {
      "text/plain": "p...000_Iba1.1.1000_10.21.19_20x_zStack_10um_Hip_Tiles_6(1).czi #5.tif',\n 'data/sirt6/interim/m91e/section1_hemi2/hip_tiles_6/MAX_C2-91E_hemi2_GFAP.1.1000_Iba1.1.1000_10.21.19_20x_zStack_10um_Hip...000_Iba1.1.1000_10.21.19_20x_zStack_10um_Hip_Tiles_6(1).czi #6.tif',\n 'data/sirt6/interim/m91e/section1_hemi2/hip_tiles_6/MAX_C2-91E_hemi2_GFAP.1.1000_Iba1.1.1000_10.21.19_20x_zStack_10um_Hip...000_Iba1.1.1000_10.21.19_20x_zStack_10um_Hip_Tiles_6(1).czi #7.tif',\n 'data/sirt6/interim/m91e/section1_hemi2/hip_tiles_6/MAX_C2-91E_hemi2_GFAP.1.1000_Iba1.1.1000_10.21.19_20x_zStack_10um_Hip...000_Iba1.1.1000_10.21.19_20x_zStack_10um_Hip_Tiles_6(1).czi #8.tif',\n 'data/sirt6/interim/m91e/section1_hemi2/hip_tiles_6/MAX_C2-91E_hemi2_GFAP.1.1000_Iba1.1.1000_10.21.19_20x_zStack_10um_Hip...000_Iba1.1.1000_10.21.19_20x_zStack_10um_Hip_Tiles_6(1).czi #9.tif',\n 'data/sirt6/interim/m91e/Section2 Hemi2/ctx_2/MAX_C2-91E_Section2_hemi2_GFAP.1.1000_Iba1.1.1000_10.21.19_20x_zStack...000_Iba1.1.1000_10.21.19_20x_zStack_10um_Ctx_Tiles_2(1).czi #1.tif',\n 'data/sirt6/interim/m91e/Section2 Hemi2/ctx_2/MAX_C2-91E_Section2_hemi2_GFAP.1.1000_Iba1.1.1000_10.21.19_20x_zStack...000_Iba1.1.1000_10.21.19_20x_zStack_10um_Ctx_Tiles_2(1).czi #2.tif',\n 'data/sirt6/interim/m91e/Section2 Hemi2/ctx_2/MAX_C2-91E_Section2_hemi2_GFAP.1.1000_Iba1.1.1000_10.21.19_20x_zStack...000_Iba1.1.1000_10.21.19_20x_zStack_10um_Ctx_Tiles_2(1).czi #3.tif',\n 'data/sirt6/interim/m91e/Section2 Hemi2/ctx_2/MAX_C2-91E_Section2_hemi2_GFAP.1.1000_Iba1.1.1000_10.21.19_20x_zStack...000_Iba1.1.1000_10.21.19_20x_zStack_10um_Ctx_Tiles_2(1).czi #4.tif',\n 'data/sirt6/interim/m91e/Section2 Hemi2/ctx_2/MAX_C2-91E_Section2_hemi2_GFAP.1.1000_Iba1.1.1000_10.21.19_20x_zStack...000_Iba1.1.1000_10.21.19_20x_zStack_10um_Ctx_Tiles_2(1).czi #5.tif',\n 'data/sirt6/interim/m91e/Section2 Hemi2/ctx_2/MAX_C2-91E_Section2_hemi2_GFAP.1.1000_Iba1.1.1000_10.21.19_20x_zStack...000_Iba1.1.1000_10.21.19_20x_zStack_10um_Ctx_Tiles_2(1).czi #6.tif',\n 'data/sirt6/interim/m91e/Section2 Hemi2/ctx_2/MAX_C2-91E_Section2_hemi2_GFAP.1.1000_Iba1.1.1000_10.21.19_20x_zStack...000_Iba1.1.1000_10.21.19_20x_zStack_10um_Ctx_Tiles_2(1).czi #7.tif',\n 'data/sirt6/interim/m91e/Section2 Hemi2/ctx_2/MAX_C2-91E_Section2_hemi2_GFAP.1.1000_Iba1.1.1000_10.21.19_20x_zStack...000_Iba1.1.1000_10.21.19_20x_zStack_10um_Ctx_Tiles_2(1).czi #8.tif',\n 'data/sirt6/interim/m91e/Section2 Hemi2/ctx_2/MAX_C2-91E_Section2_hemi2_GFAP.1.1000_Iba1.1.1000_10.21.19_20x_zStack...000_Iba1.1.1000_10.21.19_20x_zStack_10um_Ctx_Tiles_2(1).czi #9.tif',\n 'data/sirt6/interim/m91e/Section2 Hemi2/ctx_tiles_1/MAX_C2-91E_Section2_hemi2_GFAP.1.1000_Iba1.1.1000_10.21.19_20x_zStack...000_Iba1.1.1000_10.21.19_20x_zStack_10um_Ctx_Tiles_1(1).czi #1.tif',\n 'data/sirt6/interim/m91e/Section2 Hemi2/ctx_tiles_1/MAX_C2-91E_Section2_hemi2_GFAP.1.1000_Iba1.1.1000_10.21.19_20x_zStack...000_Iba1.1.1000_10.21.19_20x_zStack_10um_Ctx_Tiles_1(1).czi #2.tif',\n 'data/sirt6/interim/m91e/Section2 Hemi2/ctx_tiles_1/MAX_C2-91E_Section2_hemi2_GFAP.1.1000_Iba1.1.1000_10.21.19_20x_zStack...000_Iba1.1.1000_10.21.19_20x_zStack_10um_Ctx_Tiles_1(1).czi #3.tif',\n 'data/sirt6/interim/m91e/Section2 Hemi2/ctx_tiles_1/MAX_C2-91E_Section2_hemi2_GFAP.1.1000_Iba1.1.1000_10.21.19_20x_zStack...000_Iba1.1.1000_10.21.19_20x_zStack_10um_Ctx_Tiles_1(1).czi #4.tif',\n 'data/sirt6/interim/m91e/Section2 Hemi2/ctx_tiles_1/MAX_C2-91E_Section2_hemi2_GFAP.1.1000_Iba1.1.1000_10.21.19_20x_zStack...000_Iba1.1.1000_10.21.19_20x_zStack_10um_Ctx_Tiles_1(1).czi #5.tif',\n 'data/sirt6/interim/m91e/Section2 Hemi2/ctx_tiles_1/MAX_C2-91E_Section2_hemi2_GFAP.1.1000_Iba1.1.1000_10.21.19_20x_zStack...000_Iba1.1.1000_10.21.19_20x_zStack_10um_Ctx_Tiles_1(1).czi #6.tif',\n 'data/sirt6/interim/m91e/Section2 Hemi2/ctx_tiles_1/MAX_C2-91E_Section2_hemi2_GFAP.1.1000_Iba1.1.1000_10.21.19_20x_zStack...000_Iba1.1.1000_10.21.19_20x_zStack_10um_Ctx_Tiles_1(1).czi #7.tif',\n 'data/sirt6/interim/m91e/Section2 Hemi2/ctx_tiles_1/MAX_C2-91E_Section2_hemi2_GFAP.1.1000_Iba1.1.1000_10.21.19_20x_zStack...000_Iba1.1.1000_10.21.19_20x_zStack_10um_Ctx_Tiles_1(1).czi #8.tif',\n 'data/sirt6/interim/m91e/Section2 Hemi2/ctx_tiles_1/MAX_C2-91E_Section2_hemi2_GFAP.1.1000_Iba1.1.1000_10.21.19_20x_zStack...000_Iba1.1.1000_10.21.19_20x_zStack_10um_Ctx_Tiles_1(1).czi #9.tif',\n 'data/sirt6/interim/m91e/Section2 Hemi2/ctx_tiles_3/MAX_C2-91E_Section2_hemi2_GFAP.1.1000_Iba1.1.1000_10.21.19_20x_zStack...000_Iba1.1.1000_10.21.19_20x_zStack_10um_Ctx_Tiles_3(1).czi #1.tif',\n 'data/sirt6/interim/m91e/Section2 Hemi2/ctx_tiles_3/MAX_C2-91E_Section2_hemi2_GFAP.1.1000_Iba1.1.1000_10.21.19_20x_zStack...000_Iba1.1.1000_10.21.19_20x_zStack_10um_Ctx_Tiles_3(1).czi #2.tif',\n 'data/sirt6/interim/m91e/Section2 Hemi2/ctx_tiles_3/MAX_C2-91E_Section2_hemi2_GFAP.1.1000_Iba1.1.1000_10.21.19_20x_zStack...000_Iba1.1.1000_10.21.19_20x_zStack_10um_Ctx_Tiles_3(1).czi #3.tif',\n 'data/sirt6/interim/m91e/Section2 Hemi2/ctx_tiles_3/MAX_C2-91E_Section2_hemi2_GFAP.1.1000_Iba1.1.1000_10.21.19_20x_zStack...000_Iba1.1.1000_10.21.19_20x_zStack_10um_Ctx_Tiles_3(1).czi #4.tif',\n 'data/sirt6/interim/m91e/Section2 Hemi2/ctx_tiles_3/MAX_C2-91E_Section2_hemi2_GFAP.1.1000_Iba1.1.1000_10.21.19_20x_zStack...000_Iba1.1.1000_10.21.19_20x_zStack_10um_Ctx_Tiles_3(1).czi #5.tif',\n 'data/sirt6/interim/m91e/Section2 Hemi2/ctx_tiles_3/MAX_C2-91E_Section2_hemi2_GFAP.1.1000_Iba1.1.1000_10.21.19_20x_zStack...000_Iba1.1.1000_10.21.19_20x_zStack_10um_Ctx_Tiles_3(1).czi #6.tif',\n 'data/sirt6/interim/m91e/Section2 Hemi2/ctx_tiles_3/MAX_C2-91E_Section2_hemi2_GFAP.1.1000_Iba1.1.1000_10.21.19_20x_zStack...000_Iba1.1.1000_10.21.19_20x_zStack_10um_Ctx_Tiles_3(1).czi #7.tif',\n 'data/sirt6/interim/m91e/Section2 Hemi2/ctx_tiles_3/MAX_C2-91E_Section2_hemi2_GFAP.1.1000_Iba1.1.1000_10.21.19_20x_zStack...000_Iba1.1.1000_10.21.19_20x_zStack_10um_Ctx_Tiles_3(1).czi #8.tif',\n 'data/sirt6/interim/m91e/Section2 Hemi2/ctx_tiles_3/MAX_C2-91E_Section2_hemi2_GFAP.1.1000_Iba1.1.1000_10.21.19_20x_zStack...000_Iba1.1.1000_10.21.19_20x_zStack_10um_Ctx_Tiles_3(1).czi #9.tif',\n 'data/sirt6/interim/m91e/Section2 Hemi2/ctx_tiles_4/MAX_C2-91E_Section2_hemi2_GFAP.1.1000_Iba1.1.1000_10.21.19_20x_zStack...000_Iba1.1.1000_10.21.19_20x_zStack_10um_Ctx_Tiles_4(1).czi #1.tif',\n 'data/sirt6/interim/m91e/Section2 Hemi2/ctx_tiles_4/MAX_C2-91E_Section2_hemi2_GFAP.1.1000_Iba1.1.1000_10.21.19_20x_zStack...000_Iba1.1.1000_10.21.19_20x_zStack_10um_Ctx_Tiles_4(1).czi #2.tif',\n 'data/sirt6/interim/m91e/Section2 Hemi2/ctx_tiles_4/MAX_C2-91E_Section2_hemi2_GFAP.1.1000_Iba1.1.1000_10.21.19_20x_zStack...000_Iba1.1.1000_10.21.19_20x_zStack_10um_Ctx_Tiles_4(1).czi #3.tif',\n 'data/sirt6/interim/m91e/Section2 Hemi2/ctx_tiles_4/MAX_C2-91E_Section2_hemi2_GFAP.1.1000_Iba1.1.1000_10.21.19_20x_zStack...000_Iba1.1.1000_10.21.19_20x_zStack_10um_Ctx_Tiles_4(1).czi #4.tif',\n 'data/sirt6/interim/m91e/Section2 Hemi2/ctx_tiles_4/MAX_C2-91E_Section2_hemi2_GFAP.1.1000_Iba1.1.1000_10.21.19_20x_zStack...000_Iba1.1.1000_10.21.19_20x_zStack_10um_Ctx_Tiles_4(1).czi #5.tif',\n 'data/sirt6/interim/m91e/Section2 Hemi2/ctx_tiles_4/MAX_C2-91E_Section2_hemi2_GFAP.1.1000_Iba1.1.1000_10.21.19_20x_zStack...000_Iba1.1.1000_10.21.19_20x_zStack_10um_Ctx_Tiles_4(1).czi #6.tif',\n 'data/sirt6/interim/m91e/Section2 Hemi2/ctx_tiles_4/MAX_C2-91E_Section2_hemi2_GFAP.1.1000_Iba1.1.1000_10.21.19_20x_zStack...000_Iba1.1.1000_10.21.19_20x_zStack_10um_Ctx_Tiles_4(1).czi #7.tif',\n 'data/sirt6/interim/m91e/Section2 Hemi2/ctx_tiles_4/MAX_C2-91E_Section2_hemi2_GFAP.1.1000_Iba1.1.1000_10.21.19_20x_zStack...000_Iba1.1.1000_10.21.19_20x_zStack_10um_Ctx_Tiles_4(1).czi #8.tif',\n 'data/sirt6/interim/m91e/Section2 Hemi2/ctx_tiles_4/MAX_C2-91E_Section2_hemi2_GFAP.1.1000_Iba1.1.1000_10.21.19_20x_zStack...000_Iba1.1.1000_10.21.19_20x_zStack_10um_Ctx_Tiles_4(1).czi #9.tif',\n 'data/sirt6/interim/m91e/Section2 Hemi2/ctx_tiles_5/MAX_C2-91E_Section2_hemi2_GFAP.1.1000_Iba1.1.1000_10.21.19_20x_zStack...000_Iba1.1.1000_10.21.19_20x_zStack_10um_Ctx_Tiles_5(1).czi #1.tif',\n 'data/sirt6/interim/m91e/Section2 Hemi2/ctx_tiles_5/MAX_C2-91E_Section2_hemi2_GFAP.1.1000_Iba1.1.1000_10.21.19_20x_zStack...000_Iba1.1.1000_10.21.19_20x_zStack_10um_Ctx_Tiles_5(1).czi #2.tif',\n 'data/sirt6/interim/m91e/Section2 Hemi2/ctx_tiles_5/MAX_C2-91E_Section2_hemi2_GFAP.1.1000_Iba1.1.1000_10.21.19_20x_zStack...000_Iba1.1.1000_10.21.19_20x_zStack_10um_Ctx_Tiles_5(1).czi #3.tif',\n 'data/sirt6/interim/m91e/Section2 Hemi2/ctx_tiles_5/MAX_C2-91E_Section2_hemi2_GFAP.1.1000_Iba1.1.1000_10.21.19_20x_zStack...000_Iba1.1.1000_10.21.19_20x_zStack_10um_Ctx_Tiles_5(1).czi #4.tif',\n 'data/sirt6/interim/m91e/Section2 Hemi2/ctx_tiles_5/MAX_C2-91E_Section2_hemi2_GFAP.1.1000_Iba1.1.1000_10.21.19_20x_zStack...000_Iba1.1.1000_10.21.19_20x_zStack_10um_Ctx_Tiles_5(1).czi #5.tif',\n 'data/sirt6/interim/m91e/Section2 Hemi2/ctx_tiles_5/MAX_C2-91E_Section2_hemi2_GFAP.1.1000_Iba1.1.1000_10.21.19_20x_zStack...000_Iba1.1.1000_10.21.19_20x_zStack_10um_Ctx_Tiles_5(1).czi #6.tif',\n 'data/sirt6/interim/m91e/Section2 Hemi2/ctx_tiles_5/MAX_C2-91E_Section2_hemi2_GFAP.1.1000_Iba1.1.1000_10.21.19_20x_zStack...000_Iba1.1.1000_10.21.19_20x_zStack_10um_Ctx_Tiles_5(1).czi #7.tif',\n 'data/sirt6/interim/m91e/Section2 Hemi2/ctx_tiles_5/MAX_C2-91E_Section2_hemi2_GFAP.1.1000_Iba1.1.1000_10.21.19_20x_zStack...000_Iba1.1.1000_10.21.19_20x_zStack_10um_Ctx_Tiles_5(1).czi #8.tif',\n 'data/sirt6/interim/m91e/Section2 Hemi2/ctx_tiles_5/MAX_C2-91E_Section2_hemi2_GFAP.1.1000_Iba1.1.1000_10.21.19_20x_zStack...000_Iba1.1.1000_10.21.19_20x_zStack_10um_Ctx_Tiles_5(1).czi #9.tif',\n 'data/sirt6/interim/m91e/Section2 Hemi2/hip_tiles_1/MAX_C2-91E_Section2_hemi2_GFAP.1.1000_Iba1.1.1000_10.21.19_20x_zStack...000_Iba1.1.1000_10.21.19_20x_zStack_10um_Hip_Tiles_1(1).czi #1.tif',\n 'data/sirt6/interim/m91e/Section2 Hemi2/hip_tiles_1/MAX_C2-91E_Section2_hemi2_GFAP.1.1000_Iba1.1.1000_10.21.19_20x_zStack...000_Iba1.1.1000_10.21.19_20x_zStack_10um_Hip_Tiles_1(1).czi #2.tif',\n 'data/sirt6/interim/m91e/Section2 Hemi2/hip_tiles_1/MAX_C2-91E_Section2_hemi2_GFAP.1.1000_Iba1.1.1000_10.21.19_20x_zStack...000_Iba1.1.1000_10.21.19_20x_zStack_10um_Hip_Tiles_1(1).czi #3.tif',\n 'data/sirt6/interim/m91e/Section2 Hemi2/hip_tiles_1/MAX_C2-91E_Section2_hemi2_GFAP.1.1000_Iba1.1.1000_10.21.19_20x_zStack...000_Iba1.1.1000_10.21.19_20x_zStack_10um_Hip_Tiles_1(1).czi #4.tif',\n 'data/sirt6/interim/m91e/Section2 Hemi2/hip_tiles_1/MAX_C2-91E_Section2_hemi2_GFAP.1.1000_Iba1.1.1000_10.21.19_20x_zStack...000_Iba1.1.1000_10.21.19_20x_zStack_10um_Hip_Tiles_1(1).czi #5.tif',\n 'data/sirt6/interim/m91e/Section2 Hemi2/hip_tiles_1/MAX_C2-91E_Section2_hemi2_GFAP.1.1000_Iba1.1.1000_10.21.19_20x_zStack...000_Iba1.1.1000_10.21.19_20x_zStack_10um_Hip_Tiles_1(1).czi #6.tif',\n 'data/sirt6/interim/m91e/Section2 Hemi2/hip_tiles_1/MAX_C2-91E_Section2_hemi2_GFAP.1.1000_Iba1.1.1000_10.21.19_20x_zStack...000_Iba1.1.1000_10.21.19_20x_zStack_10um_Hip_Tiles_1(1).czi #7.tif',\n 'data/sirt6/interim/m91e/Section2 Hemi2/hip_tiles_1/MAX_C2-91E_Section2_hemi2_GFAP.1.1000_Iba1.1.1000_10.21.19_20x_zStack...000_Iba1.1.1000_10.21.19_20x_zStack_10um_Hip_Tiles_1(1).czi #8.tif',\n 'data/sirt6/interim/m91e/Section2 Hemi2/hip_tiles_1/MAX_C2-91E_Section2_hemi2_GFAP.1.1000_Iba1.1.1000_10.21.19_20x_zStack...000_Iba1.1.1000_10.21.19_20x_zStack_10um_Hip_Tiles_1(1).czi #9.tif',\n 'data/sirt6/interim/m91e/Section2 Hemi2/hip_tiles_2/MAX_C2-91E_Section2_hemi2_GFAP.1.1000_Iba1.1.1000_10.21.19_20x_zStack...000_Iba1.1.1000_10.21.19_20x_zStack_10um_Hip_Tiles_2(1).czi #1.tif',\n 'data/sirt6/interim/m91e/Section2 Hemi2/hip_tiles_2/MAX_C2-91E_Section2_hemi2_GFAP.1.1000_Iba1.1.1000_10.21.19_20x_zStack...000_Iba1.1.1000_10.21.19_20x_zStack_10um_Hip_Tiles_2(1).czi #2.tif',\n 'data/sirt6/interim/m91e/Section2 Hemi2/hip_tiles_2/MAX_C2-91E_Section2_hemi2_GFAP.1.1000_Iba1.1.1000_10.21.19_20x_zStack...000_Iba1.1.1000_10.21.19_20x_zStack_10um_Hip_Tiles_2(1).czi #3.tif',\n 'data/sirt6/interim/m91e/Section2 Hemi2/hip_tiles_2/MAX_C2-91E_Section2_hemi2_GFAP.1.1000_Iba1.1.1000_10.21.19_20x_zStack...000_Iba1.1.1000_10.21.19_20x_zStack_10um_Hip_Tiles_2(1).czi #4.tif',\n 'data/sirt6/interim/m91e/Section2 Hemi2/hip_tiles_2/MAX_C2-91E_Section2_hemi2_GFAP.1.1000_Iba1.1.1000_10.21.19_20x_zStack...000_Iba1.1.1000_10.21.19_20x_zStack_10um_Hip_Tiles_2(1).czi #5.tif',\n 'data/sirt6/interim/m91e/Section2 Hemi2/hip_tiles_2/MAX_C2-91E_Section2_hemi2_GFAP.1.1000_Iba1.1.1000_10.21.19_20x_zStack...000_Iba1.1.1000_10.21.19_20x_zStack_10um_Hip_Tiles_2(1).czi #6.tif',\n 'data/sirt6/interim/m91e/Section2 Hemi2/hip_tiles_2/MAX_C2-91E_Section2_hemi2_GFAP.1.1000_Iba1.1.1000_10.21.19_20x_zStack...000_Iba1.1.1000_10.21.19_20x_zStack_10um_Hip_Tiles_2(1).czi #7.tif',\n 'data/sirt6/interim/m91e/Section2 Hemi2/hip_tiles_2/MAX_C2-91E_Section2_hemi2_GFAP.1.1000_Iba1.1.1000_10.21.19_20x_zStack...000_Iba1.1.1000_10.21.19_20x_zStack_10um_Hip_Tiles_2(1).czi #8.tif',\n 'data/sirt6/interim/m91e/Section2 Hemi2/hip_tiles_2/MAX_C2-91E_Section2_hemi2_GFAP.1.1000_Iba1.1.1000_10.21.19_20x_zStack...000_Iba1.1.1000_10.21.19_20x_zStack_10um_Hip_Tiles_2(1).czi #9.tif',\n 'data/sirt6/interim/m91e/Section2 Hemi2/hip_tiles_3/MAX_C2-91E_Section2_hemi2_GFAP.1.1000_Iba1.1.1000_10.21.19_20x_zStack...000_Iba1.1.1000_10.21.19_20x_zStack_10um_Hip_Tiles_3(1).czi #1.tif',\n 'data/sirt6/interim/m91e/Section2 Hemi2/hip_tiles_3/MAX_C2-91E_Section2_hemi2_GFAP.1.1000_Iba1.1.1000_10.21.19_20x_zStack...000_Iba1.1.1000_10.21.19_20x_zStack_10um_Hip_Tiles_3(1).czi #2.tif',\n 'data/sirt6/interim/m91e/Section2 Hemi2/hip_tiles_3/MAX_C2-91E_Section2_hemi2_GFAP.1.1000_Iba1.1.1000_10.21.19_20x_zStack...000_Iba1.1.1000_10.21.19_20x_zStack_10um_Hip_Tiles_3(1).czi #3.tif',\n 'data/sirt6/interim/m91e/Section2 Hemi2/hip_tiles_3/MAX_C2-91E_Section2_hemi2_GFAP.1.1000_Iba1.1.1000_10.21.19_20x_zStack...000_Iba1.1.1000_10.21.19_20x_zStack_10um_Hip_Tiles_3(1).czi #4.tif',\n 'data/sirt6/interim/m91e/Section2 Hemi2/hip_tiles_3/MAX_C2-91E_Section2_hemi2_GFAP.1.1000_Iba1.1.1000_10.21.19_20x_zStack...000_Iba1.1.1000_10.21.19_20x_zStack_10um_Hip_Tiles_3(1).czi #5.tif',\n 'data/sirt6/interim/m91e/Section2 Hemi2/hip_tiles_3/MAX_C2-91E_Section2_hemi2_GFAP.1.1000_Iba1.1.1000_10.21.19_20x_zStack...000_Iba1.1.1000_10.21.19_20x_zStack_10um_Hip_Tiles_3(1).czi #6.tif',\n 'data/sirt6/interim/m91e/Section2 Hemi2/hip_tiles_3/MAX_C2-91E_Section2_hemi2_GFAP.1.1000_Iba1.1.1000_10.21.19_20x_zStack...000_Iba1.1.1000_10.21.19_20x_zStack_10um_Hip_Tiles_3(1).czi #7.tif',\n 'data/sirt6/interim/m91e/Section2 Hemi2/hip_tiles_3/MAX_C2-91E_Section2_hemi2_GFAP.1.1000_Iba1.1.1000_10.21.19_20x_zStack...000_Iba1.1.1000_10.21.19_20x_zStack_10um_Hip_Tiles_3(1).czi #8.tif',\n 'data/sirt6/interim/m91e/Section2 Hemi2/hip_tiles_3/MAX_C2-91E_Section2_hemi2_GFAP.1.1000_Iba1.1.1000_10.21.19_20x_zStack...000_Iba1.1.1000_10.21.19_20x_zStack_10um_Hip_Tiles_3(1).czi #9.tif',\n 'data/sirt6/interim/m91e/Section2 Hemi2/hip_tiles_4/MAX_C2-91E_Section2_hemi2_GFAP.1.1000_Iba1.1.1000_10.21.19_20x_zStack...000_Iba1.1.1000_10.21.19_20x_zStack_10um_Hip_Tiles_4(1).czi #1.tif',\n 'data/sirt6/interim/m91e/Section2 Hemi2/hip_tiles_4/MAX_C2-91E_Section2_hemi2_GFAP.1.1000_Iba1.1.1000_10.21.19_20x_zStack...000_Iba1.1.1000_10.21.19_20x_zStack_10um_Hip_Tiles_4(1).czi #2.tif',\n 'data/sirt6/interim/m91e/Section2 Hemi2/hip_tiles_4/MAX_C2-91E_Section2_hemi2_GFAP.1.1000_Iba1.1.1000_10.21.19_20x_zStack...000_Iba1.1.1000_10.21.19_20x_zStack_10um_Hip_Tiles_4(1).czi #3.tif',\n 'data/sirt6/interim/m91e/Section2 Hemi2/hip_tiles_4/MAX_C2-91E_Section2_hemi2_GFAP.1.1000_Iba1.1.1000_10.21.19_20x_zStack...000_Iba1.1.1000_10.21.19_20x_zStack_10um_Hip_Tiles_4(1).czi #4.tif',\n 'data/sirt6/interim/m91e/Section2 Hemi2/hip_tiles_4/MAX_C2-91E_Section2_hemi2_GFAP.1.1000_Iba1.1.1000_10.21.19_20x_zStack...000_Iba1.1.1000_10.21.19_20x_zStack_10um_Hip_Tiles_4(1).czi #5.tif',\n 'data/sirt6/interim/m91e/Section2 Hemi2/hip_tiles_4/MAX_C2-91E_Section2_hemi2_GFAP.1.1000_Iba1.1.1000_10.21.19_20x_zStack...000_Iba1.1.1000_10.21.19_20x_zStack_10um_Hip_Tiles_4(1).czi #6.tif',\n 'data/sirt6/interim/m91e/Section2 Hemi2/hip_tiles_4/MAX_C2-91E_Section2_hemi2_GFAP.1.1000_Iba1.1.1000_10.21.19_20x_zStack...000_Iba1.1.1000_10.21.19_20x_zStack_10um_Hip_Tiles_4(1).czi #7.tif',\n 'data/sirt6/interim/m91e/Section2 Hemi2/hip_tiles_4/MAX_C2-91E_Section2_hemi2_GFAP.1.1000_Iba1.1.1000_10.21.19_20x_zStack...000_Iba1.1.1000_10.21.19_20x_zStack_10um_Hip_Tiles_4(1).czi #8.tif',\n 'data/sirt6/interim/m91e/Section2 Hemi2/hip_tiles_4/MAX_C2-91E_Section2_hemi2_GFAP.1.1000_Iba1.1.1000_10.21.19_20x_zStack...000_Iba1.1.1000_10.21.19_20x_zStack_10um_Hip_Tiles_4(1).czi #9.tif',\n 'data/sirt6/interim/m91e/Section2 Hemi2/hip_tiles_5/MAX_C2-91E_Section2_hemi2_GFAP.1.1000_Iba1.1.1000_10.21.19_20x_zStack...000_Iba1.1.1000_10.21.19_20x_zStack_10um_Hip_Tiles_5(1).czi #1.tif',\n 'data/sirt6/interim/m91e/Section2 Hemi2/hip_tiles_5/MAX_C2-91E_Section2_hemi2_GFAP.1.1000_Iba1.1.1000_10.21.19_20x_zStack...000_Iba1.1.1000_10.21.19_20x_zStack_10um_Hip_Tiles_5(1).czi #2.tif',\n 'data/sirt6/interim/m91e/Section2 Hemi2/hip_tiles_5/MAX_C2-91E_Section2_hemi2_GFAP.1.1000_Iba1.1.1000_10.21.19_20x_zStack...000_Iba1.1.1000_10.21.19_20x_zStack_10um_Hip_Tiles_5(1).czi #3.tif',\n 'data/sirt6/interim/m91e/Section2 Hemi2/hip_tiles_5/MAX_C2-91E_Section2_hemi2_GFAP.1.1000_Iba1.1.1000_10.21.19_20x_zStack...000_Iba1.1.1000_10.21.19_20x_zStack_10um_Hip_Tiles_5(1).czi #4.tif',\n 'data/sirt6/interim/m91e/Section2 Hemi2/hip_tiles_5/MAX_C2-91E_Section2_hemi2_GFAP.1.1000_Iba1.1.1000_10.21.19_20x_zStack...000_Iba1.1.1000_10.21.19_20x_zStack_10um_Hip_Tiles_5(1).czi #5.tif',\n 'data/sirt6/interim/m91e/Section2 Hemi2/hip_tiles_5/MAX_C2-91E_Section2_hemi2_GFAP.1.1000_Iba1.1.1000_10.21.19_20x_zStack...000_Iba1.1.1000_10.21.19_20x_zStack_10um_Hip_Tiles_5(1).czi #6.tif',\n 'data/sirt6/interim/m91e/Section2 Hemi2/hip_tiles_5/MAX_C2-91E_Section2_hemi2_GFAP.1.1000_Iba1.1.1000_10.21.19_20x_zStack...000_Iba1.1.1000_10.21.19_20x_zStack_10um_Hip_Tiles_5(1).czi #7.tif',\n 'data/sirt6/interim/m91e/Section2 Hemi2/hip_tiles_5/MAX_C2-91E_Section2_hemi2_GFAP.1.1000_Iba1.1.1000_10.21.19_20x_zStack...000_Iba1.1.1000_10.21.19_20x_zStack_10um_Hip_Tiles_5(1).czi #8.tif',\n 'data/sirt6/interim/m91e/Section2 Hemi2/hip_tiles_5/MAX_C2-91E_Section2_hemi2_GFAP.1.1000_Iba1.1.1000_10.21.19_20x_zStack...000_Iba1.1.1000_10.21.19_20x_zStack_10um_Hip_Tiles_5(1).czi #9.tif',\n 'data/sirt6/interim/m91e/Section2 Hemi2/hip_tiles_6/MAX_C2-91E_Section2_hemi2_GFAP.1.1000_Iba1.1.1000_10.21.19_20x_zStack...000_Iba1.1.1000_10.21.19_20x_zStack_10um_Hip_Tiles_6(1).czi #1.tif',\n 'data/sirt6/interim/m91e/Section2 Hemi2/hip_tiles_6/MAX_C2-91E_Section2_hemi2_GFAP.1.1000_Iba1.1.1000_10.21.19_20x_zStack...000_Iba1.1.1000_10.21.19_20x_zStack_10um_Hip_Tiles_6(1).czi #2.tif',\n 'data/sirt6/interim/m91e/Section2 Hemi2/hip_tiles_6/MAX_C2-91E_Section2_hemi2_GFAP.1.1000_Iba1.1.1000_10.21.19_20x_zStack...000_Iba1.1.1000_10.21.19_20x_zStack_10um_Hip_Tiles_6(1).czi #3.tif',\n 'data/sirt6/interim/m91e/Section2 Hemi2/hip_tiles_6/MAX_C2-91E_Section2_hemi2_GFAP.1.1000_Iba1.1.1000_10.21.19_20x_zStack...000_Iba1.1.1000_10.21.19_20x_zStack_10um_Hip_Tiles_6(1).czi #4.tif',\n 'data/sirt6/interim/m91e/Section2 Hemi2/hip_tiles_6/MAX_C2-91E_Section2_hemi2_GFAP.1.1000_Iba1.1.1000_10.21.19_20x_zStack...000_Iba1.1.1000_10.21.19_20x_zStack_10um_Hip_Tiles_6(1).czi #5.tif',\n 'data/sirt6/interim/m91e/Section2 Hemi2/hip_tiles_6/MAX_C2-91E_Section2_hemi2_GFAP.1.1000_Iba1.1.1000_10.21.19_20x_zStack...000_Iba1.1.1000_10.21.19_20x_zStack_10um_Hip_Tiles_6(1).czi #6.tif',\n 'data/sirt6/interim/m91e/Section2 Hemi2/hip_tiles_6/MAX_C2-91E_Section2_hemi2_GFAP.1.1000_Iba1.1.1000_10.21.19_20x_zStack...000_Iba1.1.1000_10.21.19_20x_zStack_10um_Hip_Tiles_6(1).czi #7.tif',\n 'data/sirt6/interim/m91e/Section2 Hemi2/hip_tiles_6/MAX_C2-91E_Section2_hemi2_GFAP.1.1000_Iba1.1.1000_10.21.19_20x_zStack...000_Iba1.1.1000_10.21.19_20x_zStack_10um_Hip_Tiles_6(1).czi #8.tif',\n 'data/sirt6/interim/m91e/Section2 Hemi2/hip_tiles_6/MAX_C2-91E_Section2_hemi2_GFAP.1.1000_Iba1.1.1000_10.21.19_20x_zStack...000_Iba1.1.1000_10.21.19_20x_zStack_10um_Hip_Tiles_6(1).czi #9.tif']"
     },
     "execution_count": 39,
     "metadata": {},
     "output_type": "execute_result"
    }
   ],
   "source": [
    "dirName = \"data/sirt6/interim/m91e\"\n",
    "# Get the list of all files in directory tree at given path\n",
    "listOfFiles = []\n",
    "for (dirpath, dirnames, filenames) in os.walk(dirName):\n",
    "    listOfFiles += [os.path.join(dirpath, file).replace(\"\\\\\",\"/\") for file in filenames]\n",
    "\n",
    "\n",
    "c2_list = []\n",
    "for file in listOfFiles:\n",
    "    if (file.endswith('.tif') and \"MAX_C2\" in file and not \"Counter\" in file) is True:\n",
    "        c2_list += [file]\n",
    "\n",
    "c2_list"
   ]
  },
  {
   "cell_type": "code",
   "execution_count": 40,
   "metadata": {},
   "outputs": [],
   "source": [
    "targ_dir = \"data/sirt6/processed/m91e\"\n",
    "for file in c2_list:\n",
    "    shutil.copyfile(file, os.path.join(targ_dir, os.path.basename(file)))"
   ]
  },
  {
   "cell_type": "code",
   "execution_count": null,
   "metadata": {},
   "outputs": [],
   "source": []
  }
 ]
}