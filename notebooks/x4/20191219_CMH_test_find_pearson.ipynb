{
 "nbformat": 4,
 "nbformat_minor": 2,
 "metadata": {
  "language_info": {
   "name": "python",
   "codemirror_mode": {
    "name": "ipython",
    "version": 3
   },
   "version": "3.7.4"
  },
  "orig_nbformat": 2,
  "file_extension": ".py",
  "mimetype": "text/x-python",
  "name": "python",
  "npconvert_exporter": "python",
  "pygments_lexer": "ipython3",
  "version": 3
 },
 "cells": [
  {
   "cell_type": "code",
   "execution_count": 3,
   "metadata": {},
   "outputs": [],
   "source": [
    "import cc.models.train_model as train\n",
    "import pandas as pd "
   ]
  },
  {
   "cell_type": "code",
   "execution_count": 4,
   "metadata": {},
   "outputs": [
    {
     "data": {
      "text/html": "<div>\n<style scoped>\n    .dataframe tbody tr th:only-of-type {\n        vertical-align: middle;\n    }\n\n    .dataframe tbody tr th {\n        vertical-align: top;\n    }\n\n    .dataframe thead th {\n        text-align: right;\n    }\n</style>\n<table border=\"1\" class=\"dataframe\">\n  <thead>\n    <tr style=\"text-align: right;\">\n      <th></th>\n      <th>id</th>\n      <th>gt</th>\n      <th>location</th>\n      <th>man_count</th>\n      <th>area_um2</th>\n      <th>cells_per_mm2</th>\n    </tr>\n  </thead>\n  <tbody>\n    <tr>\n      <td>0</td>\n      <td>AC001</td>\n      <td>ko</td>\n      <td>DG</td>\n      <td>27</td>\n      <td>116508.4444</td>\n      <td>231.742859</td>\n    </tr>\n    <tr>\n      <td>1</td>\n      <td>AC002</td>\n      <td>ko</td>\n      <td>DG</td>\n      <td>27</td>\n      <td>116508.4444</td>\n      <td>231.742859</td>\n    </tr>\n    <tr>\n      <td>2</td>\n      <td>AC003</td>\n      <td>ko</td>\n      <td>DG</td>\n      <td>29</td>\n      <td>116508.4444</td>\n      <td>248.908997</td>\n    </tr>\n    <tr>\n      <td>3</td>\n      <td>AC004</td>\n      <td>ko</td>\n      <td>DG</td>\n      <td>34</td>\n      <td>116508.4444</td>\n      <td>291.824341</td>\n    </tr>\n    <tr>\n      <td>4</td>\n      <td>AC005</td>\n      <td>ko</td>\n      <td>DG</td>\n      <td>20</td>\n      <td>116508.4444</td>\n      <td>171.661377</td>\n    </tr>\n    <tr>\n      <td>...</td>\n      <td>...</td>\n      <td>...</td>\n      <td>...</td>\n      <td>...</td>\n      <td>...</td>\n      <td>...</td>\n    </tr>\n    <tr>\n      <td>85</td>\n      <td>AC086</td>\n      <td>wt</td>\n      <td>CA2</td>\n      <td>22</td>\n      <td>116508.4444</td>\n      <td>188.827515</td>\n    </tr>\n    <tr>\n      <td>86</td>\n      <td>AC087</td>\n      <td>wt</td>\n      <td>CA3</td>\n      <td>16</td>\n      <td>116508.4444</td>\n      <td>137.329102</td>\n    </tr>\n    <tr>\n      <td>87</td>\n      <td>AC088</td>\n      <td>wt</td>\n      <td>CA3</td>\n      <td>14</td>\n      <td>116508.4444</td>\n      <td>120.162964</td>\n    </tr>\n    <tr>\n      <td>88</td>\n      <td>AC089</td>\n      <td>wt</td>\n      <td>CA3</td>\n      <td>19</td>\n      <td>116508.4444</td>\n      <td>163.078308</td>\n    </tr>\n    <tr>\n      <td>89</td>\n      <td>AC090</td>\n      <td>wt</td>\n      <td>CA3</td>\n      <td>21</td>\n      <td>116508.4444</td>\n      <td>180.244446</td>\n    </tr>\n  </tbody>\n</table>\n<p>90 rows × 6 columns</p>\n</div>",
      "text/plain": "       id  gt location  man_count     area_um2  cells_per_mm2\n0   AC001  ko       DG         27  116508.4444     231.742859\n1   AC002  ko       DG         27  116508.4444     231.742859\n2   AC003  ko       DG         29  116508.4444     248.908997\n3   AC004  ko       DG         34  116508.4444     291.824341\n4   AC005  ko       DG         20  116508.4444     171.661377\n..    ...  ..      ...        ...          ...            ...\n85  AC086  wt      CA2         22  116508.4444     188.827515\n86  AC087  wt      CA3         16  116508.4444     137.329102\n87  AC088  wt      CA3         14  116508.4444     120.162964\n88  AC089  wt      CA3         19  116508.4444     163.078308\n89  AC090  wt      CA3         21  116508.4444     180.244446\n\n[90 rows x 6 columns]"
     },
     "execution_count": 4,
     "metadata": {},
     "output_type": "execute_result"
    }
   ],
   "source": [
    "ac_file = 'data/x4/raw/AC_counted/AC_counts_cmh.csv'\n",
    "\n",
    "x4m = pd.read_csv(ac_file)\n",
    "\n",
    "x4m"
   ]
  },
  {
   "cell_type": "code",
   "execution_count": 5,
   "metadata": {},
   "outputs": [],
   "source": [
    "imdir = 'data/x4/raw/AC_counted'"
   ]
  },
  {
   "cell_type": "code",
   "execution_count": 7,
   "metadata": {},
   "outputs": [
    {
     "name": "stdout",
     "output_type": "stream",
     "text": "Current index: 0\nC:\\ProgramData\\Anaconda3\\lib\\site-packages\\skimage\\util\\dtype.py:135: UserWarning: Possible precision loss when converting from uint16 to uint8\n  .format(dtypeobj_in, dtypeobj_out))\nC:\\ProgramData\\Anaconda3\\lib\\site-packages\\skimage\\util\\dtype.py:135: UserWarning: Possible precision loss when converting from float64 to uint8\n  .format(dtypeobj_in, dtypeobj_out))\nCurrent index: 10\nCurrent index: 20\nCurrent index: 30\nCurrent index: 40\nCurrent index: 50\nCurrent index: 60\nCurrent index: 70\nCurrent index: 80\n"
    },
    {
     "data": {
      "text/plain": "(0.80794916442238, 6.383464777168081e-22)"
     },
     "execution_count": 7,
     "metadata": {},
     "output_type": "execute_result"
    }
   ],
   "source": [
    "log_defaults = {\n",
    "    'min_s': 1,\n",
    "    'max_s': 30,\n",
    "    'num_s': 10,\n",
    "    'thresh':0.1,\n",
    "    'overlap': 0.5,\n",
    "    'log_scale': False,\n",
    "    'exclude_border': False\n",
    "}\n",
    "\n",
    "train.find_pearson(\n",
    "    man_df = x4m,\n",
    "    imdir = imdir,\n",
    "    log_params = log_defaults\n",
    ")"
   ]
  },
  {
   "cell_type": "code",
   "execution_count": 9,
   "metadata": {},
   "outputs": [
    {
     "name": "stdout",
     "output_type": "stream",
     "text": "Current index: 0\nCurrent index: 0\nCurrent index: 0\nCurrent index: 0\nCurrent index: 0\nCurrent index: 0\nCurrent index: 0\nCurrent index: 0\nCurrent index: 0\nCurrent index: 0\nCurrent index: 0\nCurrent index: 0\nCurrent index: 0\nCurrent index: 0\nCurrent index: 0\nCurrent index: 0\nCurrent index: 0\nCurrent index: 0\nCurrent index: 0\nCurrent index: 0\nCurrent index: 0\nCurrent index: 0\nCurrent index: 0\nCurrent index: 0\nCurrent index: 0\nCurrent index: 0\nCurrent index: 0\nCurrent index: 0\nCurrent index: 0\nCurrent index: 0\nCurrent index: 0\nCurrent index: 0\nCurrent index: 0\nCurrent index: 0\nCurrent index: 0\nCurrent index: 0\nCurrent index: 0\nCurrent index: 0\nCurrent index: 0\nCurrent index: 0\nCurrent index: 0\nCurrent index: 0\nCurrent index: 0\nCurrent index: 0\nCurrent index: 0\nCurrent index: 0\nCurrent index: 0\nCurrent index: 0\nCurrent index: 0\nCurrent index: 0\nCurrent index: 0\nCurrent index: 0\nCurrent index: 0\nCurrent index: 0\nCurrent index: 0\nCurrent index: 0\nCurrent index: 0\nCurrent index: 0\nCurrent index: 0\nCurrent index: 0\nCurrent index: 0\nCurrent index: 0\nCurrent index: 0\nCurrent index: 0\nCurrent index: 0\nCurrent index: 0\nCurrent index: 0\nCurrent index: 0\nCurrent index: 0\nCurrent index: 0\nCurrent index: 0\nCurrent index: 0\nCurrent index: 0\nCurrent index: 0\nCurrent index: 0\nCurrent index: 0\nCurrent index: 0\nCurrent index: 0\nCurrent index: 0\nCurrent index: 0\nCurrent index: 0\nCurrent index: 0\nCurrent index: 0\nCurrent index: 0\nCurrent index: 0\nCurrent index: 0\nCurrent index: 0\nCurrent index: 0\nCurrent index: 0\nCurrent index: 0\nCurrent index: 0\nCurrent index: 0\nCurrent index: 0\nCurrent index: 0\nCurrent index: 0\nCurrent index: 0\nCurrent index: 0\nCurrent index: 0\nCurrent index: 0\nCurrent index: 0\nCurrent index: 0\nCurrent index: 0\nCurrent index: 0\nCurrent index: 0\nCurrent index: 0\nCurrent index: 0\nCurrent index: 0\nCurrent index: 0\nCurrent index: 0\nCurrent index: 0\nCurrent index: 0\nCurrent index: 0\nCurrent index: 0\nCurrent index: 0\nCurrent index: 0\nCurrent index: 0\nCurrent index: 0\nCurrent index: 0\nCurrent index: 0\nCurrent index: 0\nCurrent index: 0\nCurrent index: 0\nCurrent index: 0\nCurrent index: 0\nCurrent index: 0\nCurrent index: 0\nCurrent index: 0\nCurrent index: 0\nCurrent index: 0\nCurrent index: 0\nCurrent index: 0\nCurrent index: 0\nCurrent index: 0\nCurrent index: 0\nCurrent index: 0\nCurrent index: 0\nCurrent index: 0\nCurrent index: 0\nCurrent index: 0\nCurrent index: 0\nCurrent index: 0\nCurrent index: 0\nCurrent index: 0\nCurrent index: 0\nCurrent index: 0\nCurrent index: 0\nCurrent index: 0\nCurrent index: 0\nCurrent index: 0\nCurrent index: 0\nCurrent index: 0\nCurrent index: 0\nCurrent index: 0\nCurrent index: 0\nCurrent index: 0\nCurrent index: 0\nCurrent index: 0\nCurrent index: 0\nCurrent index: 0\nCurrent index: 0\n"
    }
   ],
   "source": [
    "train_test_imdir = 'data/x4/raw/AC_counted/train_test_subset'\n",
    "\n",
    "log_ranges = {\n",
    "    'min_sigma_low': 1,\n",
    "    'min_sigma_high': 3,\n",
    "    'max_sigma_low': 29,\n",
    "    'max_sigma_high': 31,\n",
    "    'num_sigma_low': 19,\n",
    "    'num_sigma_high': 21,\n",
    "    'thresh_low': 0.1,\n",
    "    'thresh_high': 0.2,\n",
    "    'overlap_low': 0.1,\n",
    "    'overlap_high': 0.2\n",
    "}    \n",
    "\n",
    "pearsons = train.train_cc(\n",
    "    man_counts = x4m,\n",
    "    imdir = train_test_imdir,\n",
    "    ranges = log_ranges\n",
    ")\n"
   ]
  },
  {
   "cell_type": "code",
   "execution_count": 10,
   "metadata": {},
   "outputs": [
    {
     "data": {
      "text/plain": "exclude_border': False}},\n {'pearson': (0.36252099479795025, 0.3774789435207281),\n  'log_params': {'min_s': 1,\n   'max_s': 30,\n   'num_s': 20,\n   'thresh': 0.13999999999999999,\n   'overlap': 0.1,\n   'log_scale': False,\n   'exclude_border': False}},\n {'pearson': (0.3480863007030494, 0.3981413178000321),\n  'log_params': {'min_s': 1,\n   'max_s': 30,\n   'num_s': 20,\n   'thresh': 0.13999999999999999,\n   'overlap': 0.1,\n   'log_scale': True,\n   'exclude_border': False}},\n {'pearson': (0.3499300815899619, 0.3954751308413525),\n  'log_params': {'min_s': 1,\n   'max_s': 30,\n   'num_s': 20,\n   'thresh': 0.14999999999999997,\n   'overlap': 0.1,\n   'log_scale': False,\n   'exclude_border': False}},\n {'pearson': (0.32226800874888334, 0.43628106753459905),\n  'log_params': {'min_s': 1,\n   'max_s': 30,\n   'num_s': 20,\n   'thresh': 0.14999999999999997,\n   'overlap': 0.1,\n   'log_scale': True,\n   'exclude_border': False}},\n {'pearson': (0.39099786131098935, 0.3381714589056456),\n  'log_params': {'min_s': 1,\n   'max_s': 30,\n   'num_s': 20,\n   'thresh': 0.15999999999999998,\n   'overlap': 0.1,\n   'log_scale': False,\n   'exclude_border': False}},\n {'pearson': (0.3443705426871129, 0.40353813182381615),\n  'log_params': {'min_s': 1,\n   'max_s': 30,\n   'num_s': 20,\n   'thresh': 0.15999999999999998,\n   'overlap': 0.1,\n   'log_scale': True,\n   'exclude_border': False}},\n {'pearson': (0.5026589531107893, 0.2042368334507054),\n  'log_params': {'min_s': 1,\n   'max_s': 30,\n   'num_s': 20,\n   'thresh': 0.16999999999999998,\n   'overlap': 0.1,\n   'log_scale': False,\n   'exclude_border': False}},\n {'pearson': (0.4235984287134844, 0.29564926169182987),\n  'log_params': {'min_s': 1,\n   'max_s': 30,\n   'num_s': 20,\n   'thresh': 0.16999999999999998,\n   'overlap': 0.1,\n   'log_scale': True,\n   'exclude_border': False}},\n {'pearson': (0.5471738450726402, 0.16043508984506638),\n  'log_params': {'min_s': 1,\n   'max_s': 30,\n   'num_s': 20,\n   'thresh': 0.17999999999999997,\n   'overlap': 0.1,\n   'log_scale': False,\n   'exclude_border': False}},\n {'pearson': (0.44074946362542367, 0.27438258557927014),\n  'log_params': {'min_s': 1,\n   'max_s': 30,\n   'num_s': 20,\n   'thresh': 0.17999999999999997,\n   'overlap': 0.1,\n   'log_scale': True,\n   'exclude_border': False}},\n {'pearson': (0.49889874432796144, 0.20819443562231396),\n  'log_params': {'min_s': 1,\n   'max_s': 30,\n   'num_s': 20,\n   'thresh': 0.18999999999999995,\n   'overlap': 0.1,\n   'log_scale': False,\n   'exclude_border': False}},\n {'pearson': (0.4527774919966905, 0.2599346459980205),\n  'log_params': {'min_s': 1,\n   'max_s': 30,\n   'num_s': 20,\n   'thresh': 0.18999999999999995,\n   'overlap': 0.1,\n   'log_scale': True,\n   'exclude_border': False}},\n {'pearson': (0.24408417111723524, 0.5601945729149156),\n  'log_params': {'min_s': 2,\n   'max_s': 29,\n   'num_s': 19,\n   'thresh': 0.1,\n   'overlap': 0.1,\n   'log_scale': False,\n   'exclude_border': False}},\n {'pearson': (0.2332732953857451, 0.5782209124149469),\n  'log_params': {'min_s': 2,\n   'max_s': 29,\n   'num_s': 19,\n   'thresh': 0.1,\n   'overlap': 0.1,\n   'log_scale': True,\n   'exclude_border': False}},\n {'pearson': (0.29848128899153126, 0.47269919166169505),\n  'log_params': {'min_s': 2,\n   'max_s': 29,\n   'num_s': 19,\n   'thresh': 0.11,\n   'overlap': 0.1,\n   'log_scale': False,\n   'exclude_border': False}},\n {'pearson': (0.2884651153153047, 0.4883836245029745),\n  'log_params': {'min_s': 2,\n   'max_s': 29,\n   'num_s': 19,\n   'thresh': 0.11,\n   'overlap': 0.1,\n   'log_scale': True,\n   'exclude_border': False}},\n {'pearson': (0.2819585824630557, 0.49867923929391356),\n  'log_params': {'min_s': 2,\n   'max_s': 29,\n   'num_s': 19,\n   'thresh': 0.12,\n   'overlap': 0.1,\n   'log_scale': False,\n   'exclude_border': False}},\n {'pearson': (0.28135701594008383, 0.49963531402385253),\n  'log_params': {'min_s': 2,\n   'max_s': 29,\n   'num_s': 19,\n   'thresh': 0.12,\n   'overlap': 0.1,\n   'log_scale': True,\n   'exclude_border': False}},\n {'pearson': (0.3074009763768969, 0.45890379005366905),\n  'log_params': {'min_s': 2,\n   'max_s': 29,\n   'num_s': 19,\n   'thresh': 0.13,\n   'overlap': 0.1,\n   'log_scale': False,\n   'exclude_border': False}},\n {'pearson': (0.2951649002085347, 0.47786997897778694),\n  'log_params': {'min_s': 2,\n   'max_s': 29,\n   'num_s': 19,\n   'thresh': 0.13,\n   'overlap': 0.1,\n   'log_scale': True,\n   'exclude_border': False}},\n {'pearson': (0.3073357633769731, 0.45900405197868976),\n  'log_params': {'min_s': 2,\n   'max_s': 29,\n   'num_s': 19,\n   'thresh': 0.13999999999999999,\n   'overlap': 0.1,\n   'log_scale': False,\n   'exclude_border': False}},\n {'pearson': (0.294644125689469, 0.47868397510771626),\n  'log_params': {'min_s': 2,\n   'max_s': 29,\n   'num_s': 19,\n   'thresh': 0.13999999999999999,\n   'overlap': 0.1,\n   'log_scale': True,\n   'exclude_border': False}},\n {'pearson': (0.32642584996681645, 0.43003913385193737),\n  'log_params': {'min_s': 2,\n   'max_s': 29,\n   'num_s': 19,\n   'thresh': 0.14999999999999997,\n   'overlap': 0.1,\n   'log_scale': False,\n   'exclude_border': False}},\n {'pearson': (0.2958182248879726, 0.4768495756087896),\n  'log_params': {'min_s': 2,\n   'max_s': 29,\n   'num_s': 19,\n   'thresh': 0.14999999999999997,\n   'overlap': 0.1,\n   'log_scale': True,\n   'exclude_border': False}},\n {'pearson': (0.39516203370951564, 0.33259004684481314),\n  'log_params': {'min_s': 2,\n   'max_s': 29,\n   'num_s': 19,\n   'thresh': 0.15999999999999998,\n   'overlap': 0.1,\n   'log_scale': False,\n   'exclude_border': False}},\n {'pearson': (0.3663183096572322, 0.3721245054658163),\n  'log_params': {'min_s': 2,\n   'max_s': 29,\n   'num_s': 19,\n   'thresh': 0.15999999999999998,\n   'overlap': 0.1,\n   'log_scale': True,\n   'exclude_border': False}},\n {'pearson': (0.44730605410811675, 0.2664587645198162),\n  'log_params': {'min_s': 2,\n   'max_s': 29,\n   'num_s': 19,\n   'thresh': 0.16999999999999998,\n   'overlap': 0.1,\n   'log_scale': False,\n   'exclude_border': False}},\n {'pearson': (0.43564255617725695, 0.2806337918738508),\n  'log_params': {'min_s': 2,\n   'max_s': 29,\n   'num_s': 19,\n   'thresh': 0.16999999999999998,\n   'overlap': 0.1,\n   'log_scale': True,\n   'exclude_border': False}},\n {'pearson': (0.4462078064161561, 0.26777800699053095),\n  'log_params': {'min_s': 2,\n   'max_s': 29,\n   'num_s': 19,\n   'thresh': 0.17999999999999997,\n   'overlap': 0.1,\n   'log_scale': False,\n   'exclude_border': False}},\n {'pearson': (0.451774209023159, 0.26112491926657105),\n  'log_params': {'min_s': 2,\n   'max_s': 29,\n   'num_s': 19,\n   'thresh': 0.17999999999999997,\n   'overlap': 0.1,\n   'log_scale': True,\n   'exclude_border': False}},\n {'pearson': (0.47878336123093695, 0.2300380182668478),\n  'log_params': {'min_s': 2,\n   'max_s': 29,\n   'num_s': 19,\n   'thresh': 0.18999999999999995,\n   'overlap': 0.1,\n   'log_scale': False,\n   'exclude_border': False}},\n {'pearson': (0.47852396692002896, 0.2303270511766651),\n  'log_params': {'min_s': 2,\n   'max_s': 29,\n   'num_s': 19,\n   'thresh': 0.18999999999999995,\n   'overlap': 0.1,\n   'log_scale': True,\n   'exclude_border': False}},\n {'pearson': (0.24243962073275127, 0.5629239574451329),\n  'log_params': {'min_s': 2,\n   'max_s': 29,\n   'num_s': 20,\n   'thresh': 0.1,\n   'overlap': 0.1,\n   'log_scale': False,\n   'exclude_border': False}},\n {'pearson': (0.241278663942324, 0.5648535326933899),\n  'log_params': {'min_s': 2,\n   'max_s': 29,\n   'num_s': 20,\n   'thresh': 0.1,\n   'overlap': 0.1,\n   'log_scale': True,\n   'exclude_border': False}},\n {'pearson': (0.3013545890204328, 0.4682373773170666),\n  'log_params': {'min_s': 2,\n   'max_s': 29,\n   'num_s': 20,\n   'thresh': 0.11,\n   'overlap': 0.1,\n   'log_scale': False,\n   'exclude_border': False}},\n {'pearson': (0.295591256137417, 0.47720397173124796),\n  'log_params': {'min_s': 2,\n   'max_s': 29,\n   'num_s': 20,\n   'thresh': 0.11,\n   'overlap': 0.1,\n   'log_scale': True,\n   'exclude_border': False}},\n {'pearson': (0.28263425979609746, 0.49760621964110774),\n  'log_params': {'min_s': 2,\n   'max_s': 29,\n   'num_s': 20,\n   'thresh': 0.12,\n   'overlap': 0.1,\n   'log_scale': False,\n   'exclude_border': False}},\n {'pearson': (0.28965118813450946, 0.48651584454169433),\n  'log_params': {'min_s': 2,\n   'max_s': 29,\n   'num_s': 20,\n   'thresh': 0.12,\n   'overlap': 0.1,\n   'log_scale': True,\n   'exclude_border': False}},\n {'pearson': (0.3073794605580774, 0.45893686863342464),\n  'log_params': {'min_s': 2,\n   'max_s': 29,\n   'num_s': 20,\n   'thresh': 0.13,\n   'overlap': 0.1,\n   'log_scale': False,\n   'exclude_border': False}},\n {'pearson': (0.3031705289139418, 0.46542622940684286),\n  'log_params': {'min_s': 2,\n   'max_s': 29,\n   'num_s': 20,\n   'thresh': 0.13,\n   'overlap': 0.1,\n   'log_scale': True,\n   'exclude_border': False}},\n {'pearson': (0.3072922195182618, 0.4590710035591569),\n  'log_params': {'min_s': 2,\n   'max_s': 29,\n   'num_s': 20,\n   'thresh': 0.13999999999999999,\n   'overlap': 0.1,\n   'log_scale': False,\n   'exclude_border': False}},\n {'pearson': (0.3009740056797583, 0.4688273956171599),\n  'log_params': {'min_s': 2,\n   'max_s': 29,\n   'num_s': 20,\n   'thresh': 0.13999999999999999,\n   'overlap': 0.1,\n   'log_scale': True,\n   'exclude_border': False}},\n {'pearson': (0.3256829746414892, 0.43115160698177085),\n  'log_params': {'min_s': 2,\n   'max_s': 29,\n   'num_s': 20,\n   'thresh': 0.14999999999999997,\n   'overlap': 0.1,\n   'log_scale': False,\n   'exclude_border': False}},\n {'pearson': (0.30353853263274366, 0.4648573735462895),\n  'log_params': {'min_s': 2,\n   'max_s': 29,\n   'num_s': 20,\n   'thresh': 0.14999999999999997,\n   'overlap': 0.1,\n   'log_scale': True,\n   'exclude_border': False}},\n {'pearson': (0.39379816556456376, 0.3344133338666984),\n  'log_params': {'min_s': 2,\n   'max_s': 29,\n   'num_s': 20,\n   'thresh': 0.15999999999999998,\n   'overlap': 0.1,\n   'log_scale': False,\n   'exclude_border': False}},\n {'pearson': (0.375627281476926, 0.3591439114598065),\n  'log_params': {'min_s': 2,\n   'max_s': 29,\n   'num_s': 20,\n   'thresh': 0.15999999999999998,\n   'overlap': 0.1,\n   'log_scale': True,\n   'exclude_border': False}},\n {'pearson': (0.44521160794917475, 0.2689774616503765),\n  'log_params': {'min_s': 2,\n   'max_s': 29,\n   'num_s': 20,\n   'thresh': 0.16999999999999998,\n   'overlap': 0.1,\n   'log_scale': False,\n   'exclude_border': False}},\n {'pearson': (0.44479681368399077, 0.2694776707742285),\n  'log_params': {'min_s': 2,\n   'max_s': 29,\n   'num_s': 20,\n   'thresh': 0.16999999999999998,\n   'overlap': 0.1,\n   'log_scale': True,\n   'exclude_border': False}},\n {'pearson': (0.45348082513175125, 0.2591018467984941),\n  'log_params': {'min_s': 2,\n   'max_s': 29,\n   'num_s': 20,\n   'thresh': 0.17999999999999997,\n   'overlap': 0.1,\n   'log_scale': False,\n   'exclude_border': False}},\n {'pearson': (0.47150437062586403, 0.23821926849732133),\n  'log_params': {'min_s': 2,\n   'max_s': 29,\n   'num_s': 20,\n   'thresh': 0.17999999999999997,\n   'overlap': 0.1,\n   'log_scale': True,\n   'exclude_border': False}},\n {'pearson': (0.47898785508563907, 0.22981029005711284),\n  'log_params': {'min_s': 2,\n   'max_s': 29,\n   'num_s': 20,\n   'thresh': 0.18999999999999995,\n   'overlap': 0.1,\n   'log_scale': False,\n   'exclude_border': False}},\n {'pearson': (0.4883509355538535, 0.21950769059187736),\n  'log_params': {'min_s': 2,\n   'max_s': 29,\n   'num_s': 20,\n   'thresh': 0.18999999999999995,\n   'overlap': 0.1,\n   'log_scale': True,\n   'exclude_border': False}},\n {'pearson': (0.23658751484055163, 0.5726737785864839),\n  'log_params': {'min_s': 2,\n   'max_s': 30,\n   'num_s': 19,\n   'thresh': 0.1,\n   'overlap': 0.1,\n   'log_scale': False,\n   'exclude_border': False}},\n {'pearson': (0.2332732953857451, 0.5782209124149469),\n  'log_params': {'min_s': 2,\n   'max_s': 30,\n   'num_s': 19,\n   'thresh': 0.1,\n   'overlap': 0.1,\n   'log_scale': True,\n   'exclude_border': False}},\n {'pearson': (0.29495371774251256, 0.47820000151731873),\n  'log_params': {'min_s': 2,\n   'max_s': 30,\n   'num_s': 19,\n   'thresh': 0.11,\n   'overlap': 0.1,\n   'log_scale': False,\n   'exclude_border': False}},\n {'pearson': (0.28877241475471715, 0.48789943346503306),\n  'log_params': {'min_s': 2,\n   'max_s': 30,\n   'num_s': 19,\n   'thresh': 0.11,\n   'overlap': 0.1,\n   'log_scale': True,\n   'exclude_border': False}},\n {'pearson': (0.27653825132514404, 0.5073190884721951),\n  'log_params': {'min_s': 2,\n   'max_s': 30,\n   'num_s': 19,\n   'thresh': 0.12,\n   'overlap': 0.1,\n   'log_scale': False,\n   'exclude_border': False}},\n {'pearson': (0.28135701594008383, 0.49963531402385253),\n  'log_params': {'min_s': 2,\n   'max_s': 30,\n   'num_s': 19,\n   'thresh': 0.12,\n   'overlap': 0.1,\n   'log_scale': True,\n   'exclude_border': False}},\n {'pearson': (0.3029856963613877, 0.46571204692221374),\n  'log_params': {'min_s': 2,\n   'max_s': 30,\n   'num_s': 19,\n   'thresh': 0.13,\n   'overlap': 0.1,\n   'log_scale': False,\n   'exclude_border': False}},\n {'pearson': (0.2951649002085347, 0.47786997897778694),\n  'log_params': {'min_s': 2,\n   'max_s': 30,\n   'num_s': 19,\n   'thresh': 0.13,\n   'overlap': 0.1,\n   'log_scale': True,\n   'exclude_border': False}},\n {'pearson': (0.3019278222975344, 0.4673492557121089),\n  'log_params': {'min_s': 2,\n   'max_s': 30,\n   'num_s': 19,\n   'thresh': 0.13999999999999999,\n   'overlap': 0.1,\n   'log_scale': False,\n   'exclude_border': False}},\n {'pearson': (0.294644125689469, 0.47868397510771626),\n  'log_params': {'min_s': 2,\n   'max_s': 30,\n   'num_s': 19,\n   'thresh': 0.13999999999999999,\n   'overlap': 0.1,\n   'log_scale': True,\n   'exclude_border': False}},\n {'pearson': (0.33655260722704533, 0.4149953347475356),\n  'log_params': {'min_s': 2,\n   'max_s': 30,\n   'num_s': 19,\n   'thresh': 0.14999999999999997,\n   'overlap': 0.1,\n   'log_scale': False,\n   'exclude_border': False}},\n {'pearson': (0.2958182248879726, 0.4768495756087896),\n  'log_params': {'min_s': 2,\n   'max_s': 30,\n   'num_s': 19,\n   'thresh': 0.14999999999999997,\n   'overlap': 0.1,\n   'log_scale': True,\n   'exclude_border': False}},\n {'pearson': (0.38681582613528576, 0.34382016617831107),\n  'log_params': {'min_s': 2,\n   'max_s': 30,\n   'num_s': 19,\n   'thresh': 0.15999999999999998,\n   'overlap': 0.1,\n   'log_scale': False,\n   'exclude_border': False}},\n {'pearson': (0.3663183096572322, 0.3721245054658163),\n  'log_params': {'min_s': 2,\n   'max_s': 30,\n   'num_s': 19,\n   'thresh': 0.15999999999999998,\n   'overlap': 0.1,\n   'log_scale': True,\n   'exclude_border': False}},\n {'pearson': (0.44025322102987885, 0.27498698039819264),\n  'log_params': {'min_s': 2,\n   'max_s': 30,\n   'num_s': 19,\n   'thresh': 0.16999999999999998,\n   'overlap': 0.1,\n   'log_scale': False,\n   'exclude_border': False}},\n {'pearson': (0.43564255617725695, 0.2806337918738508),\n  'log_params': {'min_s': 2,\n   'max_s': 30,\n   'num_s': 19,\n   'thresh': 0.16999999999999998,\n   'overlap': 0.1,\n   'log_scale': True,\n   'exclude_border': False}},\n {'pearson': (0.4398914761494842, 0.2754279778830828),\n  'log_params': {'min_s': 2,\n   'max_s': 30,\n   'num_s': 19,\n   'thresh': 0.17999999999999997,\n   'overlap': 0.1,\n   'log_scale': False,\n   'exclude_border': False}},\n {'pearson': (0.451774209023159, 0.26112491926657105),\n  'log_params': {'min_s': 2,\n   'max_s': 30,\n   'num_s': 19,\n   'thresh': 0.17999999999999997,\n   'overlap': 0.1,\n   'log_scale': True,\n   'exclude_border': False}},\n {'pearson': (0.46868190385017017, 0.24143084726971822),\n  'log_params': {'min_s': 2,\n   'max_s': 30,\n   'num_s': 19,\n   'thresh': 0.18999999999999995,\n   'overlap': 0.1,\n   'log_scale': False,\n   'exclude_border': False}},\n {'pearson': (0.47852396692002896, 0.2303270511766651),\n  'log_params': {'min_s': 2,\n   'max_s': 30,\n   'num_s': 19,\n   'thresh': 0.18999999999999995,\n   'overlap': 0.1,\n   'log_scale': True,\n   'exclude_border': False}},\n {'pearson': (0.24408417111723524, 0.5601945729149156),\n  'log_params': {'min_s': 2,\n   'max_s': 30,\n   'num_s': 20,\n   'thresh': 0.1,\n   'overlap': 0.1,\n   'log_scale': False,\n   'exclude_border': False}},\n {'pearson': (0.2401551408461008, 0.5667230782540972),\n  'log_params': {'min_s': 2,\n   'max_s': 30,\n   'num_s': 20,\n   'thresh': 0.1,\n   'overlap': 0.1,\n   'log_scale': True,\n   'exclude_border': False}},\n {'pearson': (0.29959912269473354, 0.47096135164142244),\n  'log_params': {'min_s': 2,\n   'max_s': 30,\n   'num_s': 20,\n   'thresh': 0.11,\n   'overlap': 0.1,\n   'log_scale': False,\n   'exclude_border': False}},\n {'pearson': (0.29913972943010875, 0.4716752384212388),\n  'log_params': {'min_s': 2,\n   'max_s': 30,\n   'num_s': 20,\n   'thresh': 0.11,\n   'overlap': 0.1,\n   'log_scale': True,\n   'exclude_border': False}},\n {'pearson': (0.2819585824630557, 0.49867923929391356),\n  'log_params': {'min_s': 2,\n   'max_s': 30,\n   'num_s': 20,\n   'thresh': 0.12,\n   'overlap': 0.1,\n   'log_scale': False,\n   'exclude_border': False}},\n {'pearson': (0.28551104542022965, 0.4930476842336792),\n  'log_params': {'min_s': 2,\n   'max_s': 30,\n   'num_s': 20,\n   'thresh': 0.12,\n   'overlap': 0.1,\n   'log_scale': True,\n   'exclude_border': False}},\n {'pearson': (0.3074009763768969, 0.45890379005366905),\n  'log_params': {'min_s': 2,\n   'max_s': 30,\n   'num_s': 20,\n   'thresh': 0.13,\n   'overlap': 0.1,\n   'log_scale': False,\n   'exclude_border': False}},\n {'pearson': (0.30067199032822833, 0.46929582158983607),\n  'log_params': {'min_s': 2,\n   'max_s': 30,\n   'num_s': 20,\n   'thresh': 0.13,\n   'overlap': 0.1,\n   'log_scale': True,\n   'exclude_border': False}},\n {'pearson': (0.3073357633769731, 0.45900405197868976),\n  'log_params': {'min_s': 2,\n   'max_s': 30,\n   'num_s': 20,\n   'thresh': 0.13999999999999999,\n   'overlap': 0.1,\n   'log_scale': False,\n   'exclude_border': False}},\n {'pearson': (0.30180373484320544, 0.4675414495336193),\n  'log_params': {'min_s': 2,\n   'max_s': 30,\n   'num_s': 20,\n   'thresh': 0.13999999999999999,\n   'overlap': 0.1,\n   'log_scale': True,\n   'exclude_border': False}},\n {'pearson': (0.32642584996681645, 0.43003913385193737),\n  'log_params': {'min_s': 2,\n   'max_s': 30,\n   'num_s': 20,\n   'thresh': 0.14999999999999997,\n   'overlap': 0.1,\n   'log_scale': False,\n   'exclude_border': False}},\n {'pearson': (0.3045959992288969, 0.4632243126682099),\n  'log_params': {'min_s': 2,\n   'max_s': 30,\n   'num_s': 20,\n   'thresh': 0.14999999999999997,\n   'overlap': 0.1,\n   'log_scale': True,\n   'exclude_border': False}},\n {'pearson': (0.39516203370951564, 0.33259004684481314),\n  'log_params': {'min_s': 2,\n   'max_s': 30,\n   'num_s': 20,\n   'thresh': 0.15999999999999998,\n   'overlap': 0.1,\n   'log_scale': False,\n   'exclude_border': False}},\n {'pearson': (0.375627281476926, 0.3591439114598065),\n  'log_params': {'min_s': 2,\n   'max_s': 30,\n   'num_s': 20,\n   'thresh': 0.15999999999999998,\n   'overlap': 0.1,\n   'log_scale': True,\n   'exclude_border': False}},\n {'pearson': (0.44730605410811675, 0.2664587645198162),\n  'log_params': {'min_s': 2,\n   'max_s': 30,\n   'num_s': 20,\n   'thresh': 0.16999999999999998,\n   'overlap': 0.1,\n   'log_scale': False,\n   'exclude_border': False}},\n {'pearson': (0.4537901593465624, 0.2587359949763324),\n  'log_params': {'min_s': 2,\n   'max_s': 30,\n   'num_s': 20,\n   'thresh': 0.16999999999999998,\n   'overlap': 0.1,\n   'log_scale': True,\n   'exclude_border': False}},\n {'pearson': (0.45564367360849356, 0.25654925028100184),\n  'log_params': {'min_s': 2,\n   'max_s': 30,\n   'num_s': 20,\n   'thresh': 0.17999999999999997,\n   'overlap': 0.1,\n   'log_scale': False,\n   'exclude_border': False}},\n {'pearson': (0.48034568764703595, 0.22830111928623412),\n  'log_params': {'min_s': 2,\n   'max_s': 30,\n   'num_s': 20,\n   'thresh': 0.17999999999999997,\n   'overlap': 0.1,\n   'log_scale': True,\n   'exclude_border': False}},\n {'pearson': (0.4761740301010534, 0.23295397224613487),\n  'log_params': {'min_s': 2,\n   'max_s': 30,\n   'num_s': 20,\n   'thresh': 0.18999999999999995,\n   'overlap': 0.1,\n   'log_scale': False,\n   'exclude_border': False}},\n {'pearson': (0.49795307177655046, 0.2091960089822648),\n  'log_params': {'min_s': 2,\n   'max_s': 30,\n   'num_s': 20,\n   'thresh': 0.18999999999999995,\n   'overlap': 0.1,\n   'log_scale': True,\n   'exclude_border': False}}]"
     },
     "execution_count": 10,
     "metadata": {},
     "output_type": "execute_result"
    }
   ],
   "source": [
    "pearsons"
   ]
  },
  {
   "cell_type": "code",
   "execution_count": 11,
   "metadata": {},
   "outputs": [
    {
     "data": {
      "text/html": "<div>\n<style scoped>\n    .dataframe tbody tr th:only-of-type {\n        vertical-align: middle;\n    }\n\n    .dataframe tbody tr th {\n        vertical-align: top;\n    }\n\n    .dataframe thead th {\n        text-align: right;\n    }\n</style>\n<table border=\"1\" class=\"dataframe\">\n  <thead>\n    <tr style=\"text-align: right;\">\n      <th></th>\n      <th>pearson</th>\n      <th>log_params</th>\n    </tr>\n  </thead>\n  <tbody>\n    <tr>\n      <td>0</td>\n      <td>(0.22027636682099333, 0.600147557687775)</td>\n      <td>{'min_s': 1, 'max_s': 29, 'num_s': 19, 'thresh...</td>\n    </tr>\n    <tr>\n      <td>1</td>\n      <td>(0.2343280321609458, 0.5764535776219897)</td>\n      <td>{'min_s': 1, 'max_s': 29, 'num_s': 19, 'thresh...</td>\n    </tr>\n    <tr>\n      <td>2</td>\n      <td>(0.26183579871031437, 0.5310350410528067)</td>\n      <td>{'min_s': 1, 'max_s': 29, 'num_s': 19, 'thresh...</td>\n    </tr>\n    <tr>\n      <td>3</td>\n      <td>(0.291348504397616, 0.4838478510803745)</td>\n      <td>{'min_s': 1, 'max_s': 29, 'num_s': 19, 'thresh...</td>\n    </tr>\n    <tr>\n      <td>4</td>\n      <td>(0.3566225831679656, 0.3858634887869849)</td>\n      <td>{'min_s': 1, 'max_s': 29, 'num_s': 19, 'thresh...</td>\n    </tr>\n    <tr>\n      <td>...</td>\n      <td>...</td>\n      <td>...</td>\n    </tr>\n    <tr>\n      <td>155</td>\n      <td>(0.4537901593465624, 0.2587359949763324)</td>\n      <td>{'min_s': 2, 'max_s': 30, 'num_s': 20, 'thresh...</td>\n    </tr>\n    <tr>\n      <td>156</td>\n      <td>(0.45564367360849356, 0.25654925028100184)</td>\n      <td>{'min_s': 2, 'max_s': 30, 'num_s': 20, 'thresh...</td>\n    </tr>\n    <tr>\n      <td>157</td>\n      <td>(0.48034568764703595, 0.22830111928623412)</td>\n      <td>{'min_s': 2, 'max_s': 30, 'num_s': 20, 'thresh...</td>\n    </tr>\n    <tr>\n      <td>158</td>\n      <td>(0.4761740301010534, 0.23295397224613487)</td>\n      <td>{'min_s': 2, 'max_s': 30, 'num_s': 20, 'thresh...</td>\n    </tr>\n    <tr>\n      <td>159</td>\n      <td>(0.49795307177655046, 0.2091960089822648)</td>\n      <td>{'min_s': 2, 'max_s': 30, 'num_s': 20, 'thresh...</td>\n    </tr>\n  </tbody>\n</table>\n<p>160 rows × 2 columns</p>\n</div>",
      "text/plain": "                                        pearson  \\\n0      (0.22027636682099333, 0.600147557687775)   \n1      (0.2343280321609458, 0.5764535776219897)   \n2     (0.26183579871031437, 0.5310350410528067)   \n3       (0.291348504397616, 0.4838478510803745)   \n4      (0.3566225831679656, 0.3858634887869849)   \n..                                          ...   \n155    (0.4537901593465624, 0.2587359949763324)   \n156  (0.45564367360849356, 0.25654925028100184)   \n157  (0.48034568764703595, 0.22830111928623412)   \n158   (0.4761740301010534, 0.23295397224613487)   \n159   (0.49795307177655046, 0.2091960089822648)   \n\n                                            log_params  \n0    {'min_s': 1, 'max_s': 29, 'num_s': 19, 'thresh...  \n1    {'min_s': 1, 'max_s': 29, 'num_s': 19, 'thresh...  \n2    {'min_s': 1, 'max_s': 29, 'num_s': 19, 'thresh...  \n3    {'min_s': 1, 'max_s': 29, 'num_s': 19, 'thresh...  \n4    {'min_s': 1, 'max_s': 29, 'num_s': 19, 'thresh...  \n..                                                 ...  \n155  {'min_s': 2, 'max_s': 30, 'num_s': 20, 'thresh...  \n156  {'min_s': 2, 'max_s': 30, 'num_s': 20, 'thresh...  \n157  {'min_s': 2, 'max_s': 30, 'num_s': 20, 'thresh...  \n158  {'min_s': 2, 'max_s': 30, 'num_s': 20, 'thresh...  \n159  {'min_s': 2, 'max_s': 30, 'num_s': 20, 'thresh...  \n\n[160 rows x 2 columns]"
     },
     "execution_count": 11,
     "metadata": {},
     "output_type": "execute_result"
    }
   ],
   "source": [
    "pearsons_df = pd.DataFrame(pearsons)\n",
    "pearsons_df"
   ]
  },
  {
   "cell_type": "code",
   "execution_count": 12,
   "metadata": {},
   "outputs": [],
   "source": [
    "pearsons_df.to_csv('data/x4/test.csv')"
   ]
  },
  {
   "cell_type": "code",
   "execution_count": 14,
   "metadata": {},
   "outputs": [
    {
     "name": "stdout",
     "output_type": "stream",
     "text": "Current index: 0\nC:\\ProgramData\\Anaconda3\\lib\\site-packages\\skimage\\util\\dtype.py:135: UserWarning: Possible precision loss when converting from uint16 to uint8\n  .format(dtypeobj_in, dtypeobj_out))\nC:\\ProgramData\\Anaconda3\\lib\\site-packages\\skimage\\util\\dtype.py:135: UserWarning: Possible precision loss when converting from float64 to uint8\n  .format(dtypeobj_in, dtypeobj_out))\nCurrent index: 0\nCurrent index: 0\n"
    },
    {
     "ename": "KeyboardInterrupt",
     "evalue": "",
     "output_type": "error",
     "traceback": [
      "\u001b[1;31m---------------------------------------------------------------------------\u001b[0m",
      "\u001b[1;31mKeyboardInterrupt\u001b[0m                         Traceback (most recent call last)",
      "\u001b[1;32m<ipython-input-14-0b68d0cbb474>\u001b[0m in \u001b[0;36m<module>\u001b[1;34m\u001b[0m\n\u001b[0;32m     28\u001b[0m     \u001b[0mman_counts\u001b[0m \u001b[1;33m=\u001b[0m \u001b[0mx4m\u001b[0m\u001b[1;33m,\u001b[0m\u001b[1;33m\u001b[0m\u001b[1;33m\u001b[0m\u001b[0m\n\u001b[0;32m     29\u001b[0m     \u001b[0mimdir\u001b[0m \u001b[1;33m=\u001b[0m \u001b[0mtrain_test_imdir\u001b[0m\u001b[1;33m,\u001b[0m\u001b[1;33m\u001b[0m\u001b[1;33m\u001b[0m\u001b[0m\n\u001b[1;32m---> 30\u001b[1;33m     \u001b[0mranges\u001b[0m \u001b[1;33m=\u001b[0m \u001b[0mtrain_ranges\u001b[0m\u001b[1;33m\u001b[0m\u001b[1;33m\u001b[0m\u001b[0m\n\u001b[0m\u001b[0;32m     31\u001b[0m )\n\u001b[0;32m     32\u001b[0m \u001b[1;33m\u001b[0m\u001b[0m\n",
      "\u001b[1;32mz:\\.code\\cell_counting\\cc\\models\\train_model.py\u001b[0m in \u001b[0;36mtrain_cc\u001b[1;34m(man_counts, imdir, ranges)\u001b[0m\n\u001b[0;32m    113\u001b[0m                             \u001b[1;34m'log_scale'\u001b[0m\u001b[1;33m:\u001b[0m \u001b[1;32mFalse\u001b[0m\u001b[1;33m,\u001b[0m\u001b[1;33m\u001b[0m\u001b[1;33m\u001b[0m\u001b[0m\n\u001b[0;32m    114\u001b[0m                             \u001b[1;34m'exclude_border'\u001b[0m\u001b[1;33m:\u001b[0m \u001b[1;32mFalse\u001b[0m\u001b[1;33m\u001b[0m\u001b[1;33m\u001b[0m\u001b[0m\n\u001b[1;32m--> 115\u001b[1;33m                         }     \n\u001b[0m\u001b[0;32m    116\u001b[0m \u001b[1;33m\u001b[0m\u001b[0m\n\u001b[0;32m    117\u001b[0m                         log_params_2 = {\n",
      "\u001b[1;32mz:\\.code\\cell_counting\\cc\\models\\train_model.py\u001b[0m in \u001b[0;36mfind_pearson\u001b[1;34m(man_df, imdir, log_params)\u001b[0m\n\u001b[0;32m     48\u001b[0m         \u001b[0mtesti\u001b[0m\u001b[1;33m=\u001b[0m\u001b[1;36m0\u001b[0m\u001b[1;33m,\u001b[0m\u001b[1;33m\u001b[0m\u001b[1;33m\u001b[0m\u001b[0m\n\u001b[0;32m     49\u001b[0m         \u001b[0mverbose\u001b[0m \u001b[1;33m=\u001b[0m \u001b[1;32mFalse\u001b[0m\u001b[1;33m,\u001b[0m\u001b[1;33m\u001b[0m\u001b[1;33m\u001b[0m\u001b[0m\n\u001b[1;32m---> 50\u001b[1;33m         \u001b[0mpixels_per_micron\u001b[0m\u001b[1;33m=\u001b[0m \u001b[1;36m1.5\u001b[0m\u001b[1;33m\u001b[0m\u001b[1;33m\u001b[0m\u001b[0m\n\u001b[0m\u001b[0;32m     51\u001b[0m     )\n\u001b[0;32m     52\u001b[0m     \u001b[0mauto_df\u001b[0m \u001b[1;33m=\u001b[0m \u001b[0mextract_panda\u001b[0m \u001b[1;33m(\u001b[0m\u001b[0mclobs\u001b[0m\u001b[1;33m)\u001b[0m\u001b[1;33m\u001b[0m\u001b[1;33m\u001b[0m\u001b[0m\n",
      "\u001b[1;32mz:\\.code\\cell_counting\\cc\\count\\countcells.py\u001b[0m in \u001b[0;36mcollect_cell_counts\u001b[1;34m(image_directory, log_params, testi, verbose, pixels_per_micron)\u001b[0m\n\u001b[0;32m    186\u001b[0m         \u001b[0mgreyscale_im\u001b[0m \u001b[1;33m=\u001b[0m \u001b[0mrgb2gray\u001b[0m\u001b[1;33m(\u001b[0m\u001b[0mimage\u001b[0m\u001b[1;33m)\u001b[0m\u001b[1;33m\u001b[0m\u001b[1;33m\u001b[0m\u001b[0m\n\u001b[0;32m    187\u001b[0m         \u001b[0mimage8\u001b[0m \u001b[1;33m=\u001b[0m \u001b[0mski\u001b[0m\u001b[1;33m.\u001b[0m\u001b[0mimg_as_ubyte\u001b[0m\u001b[1;33m(\u001b[0m\u001b[0mgreyscale_im\u001b[0m\u001b[1;33m)\u001b[0m\u001b[1;33m\u001b[0m\u001b[1;33m\u001b[0m\u001b[0m\n\u001b[1;32m--> 188\u001b[1;33m         \u001b[0mblobs_log\u001b[0m \u001b[1;33m=\u001b[0m \u001b[0mrun_log\u001b[0m\u001b[1;33m(\u001b[0m\u001b[0mimage8\u001b[0m\u001b[1;33m,\u001b[0m \u001b[0mplot_im\u001b[0m \u001b[1;33m=\u001b[0m \u001b[1;32mFalse\u001b[0m\u001b[1;33m,\u001b[0m \u001b[0mlog_params\u001b[0m \u001b[1;33m=\u001b[0m \u001b[0mlog_params\u001b[0m\u001b[1;33m)\u001b[0m\u001b[1;33m\u001b[0m\u001b[1;33m\u001b[0m\u001b[0m\n\u001b[0m\u001b[0;32m    189\u001b[0m         clob = cell_counts(\n\u001b[0;32m    190\u001b[0m                     \u001b[0mname\u001b[0m \u001b[1;33m=\u001b[0m \u001b[0mimages\u001b[0m\u001b[1;33m.\u001b[0m\u001b[0mfiles\u001b[0m\u001b[1;33m[\u001b[0m\u001b[0mi\u001b[0m\u001b[1;33m]\u001b[0m\u001b[1;33m,\u001b[0m\u001b[1;33m\u001b[0m\u001b[1;33m\u001b[0m\u001b[0m\n",
      "\u001b[1;32mz:\\.code\\cell_counting\\cc\\count\\countcells.py\u001b[0m in \u001b[0;36mrun_log\u001b[1;34m(image, plot_im, verbose, log_params)\u001b[0m\n\u001b[0;32m     31\u001b[0m         \u001b[0moverlap\u001b[0m \u001b[1;33m=\u001b[0m \u001b[0mlog_params\u001b[0m\u001b[1;33m[\u001b[0m\u001b[1;34m'overlap'\u001b[0m\u001b[1;33m]\u001b[0m\u001b[1;33m,\u001b[0m\u001b[1;33m\u001b[0m\u001b[1;33m\u001b[0m\u001b[0m\n\u001b[0;32m     32\u001b[0m         \u001b[0mlog_scale\u001b[0m \u001b[1;33m=\u001b[0m \u001b[0mlog_params\u001b[0m\u001b[1;33m[\u001b[0m\u001b[1;34m'log_scale'\u001b[0m\u001b[1;33m]\u001b[0m\u001b[1;33m,\u001b[0m\u001b[1;33m\u001b[0m\u001b[1;33m\u001b[0m\u001b[0m\n\u001b[1;32m---> 33\u001b[1;33m         \u001b[0mexclude_border\u001b[0m \u001b[1;33m=\u001b[0m \u001b[0mlog_params\u001b[0m\u001b[1;33m[\u001b[0m\u001b[1;34m'exclude_border'\u001b[0m\u001b[1;33m]\u001b[0m\u001b[1;33m\u001b[0m\u001b[1;33m\u001b[0m\u001b[0m\n\u001b[0m\u001b[0;32m     34\u001b[0m         )\n\u001b[0;32m     35\u001b[0m \u001b[1;33m\u001b[0m\u001b[0m\n",
      "\u001b[1;32mC:\\ProgramData\\Anaconda3\\lib\\site-packages\\skimage\\feature\\blob.py\u001b[0m in \u001b[0;36mblob_log\u001b[1;34m(image, min_sigma, max_sigma, num_sigma, threshold, overlap, log_scale, exclude_border)\u001b[0m\n\u001b[0;32m    454\u001b[0m     \u001b[0mlm\u001b[0m \u001b[1;33m=\u001b[0m \u001b[0mnp\u001b[0m\u001b[1;33m.\u001b[0m\u001b[0mhstack\u001b[0m\u001b[1;33m(\u001b[0m\u001b[1;33m[\u001b[0m\u001b[0mlm\u001b[0m\u001b[1;33m[\u001b[0m\u001b[1;33m:\u001b[0m\u001b[1;33m,\u001b[0m \u001b[1;33m:\u001b[0m\u001b[1;33m-\u001b[0m\u001b[1;36m1\u001b[0m\u001b[1;33m]\u001b[0m\u001b[1;33m,\u001b[0m \u001b[0msigmas_of_peaks\u001b[0m\u001b[1;33m]\u001b[0m\u001b[1;33m)\u001b[0m\u001b[1;33m\u001b[0m\u001b[1;33m\u001b[0m\u001b[0m\n\u001b[0;32m    455\u001b[0m \u001b[1;33m\u001b[0m\u001b[0m\n\u001b[1;32m--> 456\u001b[1;33m     \u001b[1;32mreturn\u001b[0m \u001b[0m_prune_blobs\u001b[0m\u001b[1;33m(\u001b[0m\u001b[0mlm\u001b[0m\u001b[1;33m,\u001b[0m \u001b[0moverlap\u001b[0m\u001b[1;33m)\u001b[0m\u001b[1;33m\u001b[0m\u001b[1;33m\u001b[0m\u001b[0m\n\u001b[0m\u001b[0;32m    457\u001b[0m \u001b[1;33m\u001b[0m\u001b[0m\n\u001b[0;32m    458\u001b[0m \u001b[1;33m\u001b[0m\u001b[0m\n",
      "\u001b[1;32mC:\\ProgramData\\Anaconda3\\lib\\site-packages\\skimage\\feature\\blob.py\u001b[0m in \u001b[0;36m_prune_blobs\u001b[1;34m(blobs_array, overlap)\u001b[0m\n\u001b[0;32m    157\u001b[0m         \u001b[1;32mfor\u001b[0m \u001b[1;33m(\u001b[0m\u001b[0mi\u001b[0m\u001b[1;33m,\u001b[0m \u001b[0mj\u001b[0m\u001b[1;33m)\u001b[0m \u001b[1;32min\u001b[0m \u001b[0mpairs\u001b[0m\u001b[1;33m:\u001b[0m\u001b[1;33m\u001b[0m\u001b[1;33m\u001b[0m\u001b[0m\n\u001b[0;32m    158\u001b[0m             \u001b[0mblob1\u001b[0m\u001b[1;33m,\u001b[0m \u001b[0mblob2\u001b[0m \u001b[1;33m=\u001b[0m \u001b[0mblobs_array\u001b[0m\u001b[1;33m[\u001b[0m\u001b[0mi\u001b[0m\u001b[1;33m]\u001b[0m\u001b[1;33m,\u001b[0m \u001b[0mblobs_array\u001b[0m\u001b[1;33m[\u001b[0m\u001b[0mj\u001b[0m\u001b[1;33m]\u001b[0m\u001b[1;33m\u001b[0m\u001b[1;33m\u001b[0m\u001b[0m\n\u001b[1;32m--> 159\u001b[1;33m             \u001b[1;32mif\u001b[0m \u001b[0m_blob_overlap\u001b[0m\u001b[1;33m(\u001b[0m\u001b[0mblob1\u001b[0m\u001b[1;33m,\u001b[0m \u001b[0mblob2\u001b[0m\u001b[1;33m)\u001b[0m \u001b[1;33m>\u001b[0m \u001b[0moverlap\u001b[0m\u001b[1;33m:\u001b[0m\u001b[1;33m\u001b[0m\u001b[1;33m\u001b[0m\u001b[0m\n\u001b[0m\u001b[0;32m    160\u001b[0m                 \u001b[1;32mif\u001b[0m \u001b[0mblob1\u001b[0m\u001b[1;33m[\u001b[0m\u001b[1;33m-\u001b[0m\u001b[1;36m1\u001b[0m\u001b[1;33m]\u001b[0m \u001b[1;33m>\u001b[0m \u001b[0mblob2\u001b[0m\u001b[1;33m[\u001b[0m\u001b[1;33m-\u001b[0m\u001b[1;36m1\u001b[0m\u001b[1;33m]\u001b[0m\u001b[1;33m:\u001b[0m\u001b[1;33m\u001b[0m\u001b[1;33m\u001b[0m\u001b[0m\n\u001b[0;32m    161\u001b[0m                     \u001b[0mblob2\u001b[0m\u001b[1;33m[\u001b[0m\u001b[1;33m-\u001b[0m\u001b[1;36m1\u001b[0m\u001b[1;33m]\u001b[0m \u001b[1;33m=\u001b[0m \u001b[1;36m0\u001b[0m\u001b[1;33m\u001b[0m\u001b[1;33m\u001b[0m\u001b[0m\n",
      "\u001b[1;32mC:\\ProgramData\\Anaconda3\\lib\\site-packages\\skimage\\feature\\blob.py\u001b[0m in \u001b[0;36m_blob_overlap\u001b[1;34m(blob1, blob2)\u001b[0m\n\u001b[0;32m    112\u001b[0m     \u001b[0mr2\u001b[0m \u001b[1;33m=\u001b[0m \u001b[0mblob2\u001b[0m\u001b[1;33m[\u001b[0m\u001b[1;33m-\u001b[0m\u001b[1;36m1\u001b[0m\u001b[1;33m]\u001b[0m \u001b[1;33m*\u001b[0m \u001b[0mroot_ndim\u001b[0m\u001b[1;33m\u001b[0m\u001b[1;33m\u001b[0m\u001b[0m\n\u001b[0;32m    113\u001b[0m \u001b[1;33m\u001b[0m\u001b[0m\n\u001b[1;32m--> 114\u001b[1;33m     \u001b[0md\u001b[0m \u001b[1;33m=\u001b[0m \u001b[0msqrt\u001b[0m\u001b[1;33m(\u001b[0m\u001b[0mnp\u001b[0m\u001b[1;33m.\u001b[0m\u001b[0msum\u001b[0m\u001b[1;33m(\u001b[0m\u001b[1;33m(\u001b[0m\u001b[0mblob1\u001b[0m\u001b[1;33m[\u001b[0m\u001b[1;33m:\u001b[0m\u001b[1;33m-\u001b[0m\u001b[1;36m1\u001b[0m\u001b[1;33m]\u001b[0m \u001b[1;33m-\u001b[0m \u001b[0mblob2\u001b[0m\u001b[1;33m[\u001b[0m\u001b[1;33m:\u001b[0m\u001b[1;33m-\u001b[0m\u001b[1;36m1\u001b[0m\u001b[1;33m]\u001b[0m\u001b[1;33m)\u001b[0m\u001b[1;33m**\u001b[0m\u001b[1;36m2\u001b[0m\u001b[1;33m)\u001b[0m\u001b[1;33m)\u001b[0m\u001b[1;33m\u001b[0m\u001b[1;33m\u001b[0m\u001b[0m\n\u001b[0m\u001b[0;32m    115\u001b[0m     \u001b[1;32mif\u001b[0m \u001b[0md\u001b[0m \u001b[1;33m>\u001b[0m \u001b[0mr1\u001b[0m \u001b[1;33m+\u001b[0m \u001b[0mr2\u001b[0m\u001b[1;33m:\u001b[0m\u001b[1;33m\u001b[0m\u001b[1;33m\u001b[0m\u001b[0m\n\u001b[0;32m    116\u001b[0m         \u001b[1;32mreturn\u001b[0m \u001b[1;36m0\u001b[0m\u001b[1;33m\u001b[0m\u001b[1;33m\u001b[0m\u001b[0m\n",
      "\u001b[1;32mC:\\ProgramData\\Anaconda3\\lib\\site-packages\\numpy\\core\\fromnumeric.py\u001b[0m in \u001b[0;36msum\u001b[1;34m(a, axis, dtype, out, keepdims, initial)\u001b[0m\n\u001b[0;32m   2074\u001b[0m \u001b[1;33m\u001b[0m\u001b[0m\n\u001b[0;32m   2075\u001b[0m     return _wrapreduction(a, np.add, 'sum', axis, dtype, out, keepdims=keepdims,\n\u001b[1;32m-> 2076\u001b[1;33m                           initial=initial)\n\u001b[0m\u001b[0;32m   2077\u001b[0m \u001b[1;33m\u001b[0m\u001b[0m\n\u001b[0;32m   2078\u001b[0m \u001b[1;33m\u001b[0m\u001b[0m\n",
      "\u001b[1;32mC:\\ProgramData\\Anaconda3\\lib\\site-packages\\numpy\\core\\fromnumeric.py\u001b[0m in \u001b[0;36m_wrapreduction\u001b[1;34m(obj, ufunc, method, axis, dtype, out, **kwargs)\u001b[0m\n\u001b[0;32m     68\u001b[0m \u001b[1;33m\u001b[0m\u001b[0m\n\u001b[0;32m     69\u001b[0m \u001b[1;32mdef\u001b[0m \u001b[0m_wrapreduction\u001b[0m\u001b[1;33m(\u001b[0m\u001b[0mobj\u001b[0m\u001b[1;33m,\u001b[0m \u001b[0mufunc\u001b[0m\u001b[1;33m,\u001b[0m \u001b[0mmethod\u001b[0m\u001b[1;33m,\u001b[0m \u001b[0maxis\u001b[0m\u001b[1;33m,\u001b[0m \u001b[0mdtype\u001b[0m\u001b[1;33m,\u001b[0m \u001b[0mout\u001b[0m\u001b[1;33m,\u001b[0m \u001b[1;33m**\u001b[0m\u001b[0mkwargs\u001b[0m\u001b[1;33m)\u001b[0m\u001b[1;33m:\u001b[0m\u001b[1;33m\u001b[0m\u001b[1;33m\u001b[0m\u001b[0m\n\u001b[1;32m---> 70\u001b[1;33m     passkwargs = {k: v for k, v in kwargs.items()\n\u001b[0m\u001b[0;32m     71\u001b[0m                   if v is not np._NoValue}\n\u001b[0;32m     72\u001b[0m \u001b[1;33m\u001b[0m\u001b[0m\n",
      "\u001b[1;31mKeyboardInterrupt\u001b[0m: "
     ]
    }
   ],
   "source": [
    "ac_file = 'data/x4/raw/AC_counted/AC_counts_cmh.csv'\n",
    "x4m = pd.read_csv(ac_file)\n",
    "imdir = 'data/x4/raw/AC_counted'\n",
    "\n",
    "train_ranges = {\n",
    "    'min_sigma_low': 1,\n",
    "    'min_sigma_high': 11,\n",
    "    'min_sigma_interval': 2, # 5 total\n",
    "    'max_sigma_low': 25,\n",
    "    'max_sigma_high': 45,\n",
    "    'max_sigma_interval': 4, # 5 total \n",
    "    'num_sigma_low': 10,\n",
    "    'num_sigma_high': 30,\n",
    "    'num_sigma_interval': 5, # 4 total\n",
    "    'thresh_low': 0.01,\n",
    "    'thresh_high': 0.5,\n",
    "    'thresh_interval': 0.05, # 10 total\n",
    "    'overlap_low': 0.1,\n",
    "    'overlap_high': 0.2,\n",
    "    'overlap_interval': 0.05 # 2 total\n",
    "} \n",
    "\n",
    "# 4,000 total combinations including the log_scale interpolation T/F\n",
    "# if it too about 30 min for 160 combinations with fewer images, at best\n",
    "# this will take 12 hrs\n",
    "\n",
    "pearsons = train.train_cc(\n",
    "    man_counts = x4m,\n",
    "    imdir = train_test_imdir,\n",
    "    ranges = train_ranges\n",
    ")\n",
    "\n",
    "pearsons_df = pd.DataFrame(pearsons)\n",
    "pearsons_df.to_csv('data/x4/training_data.csv')\n",
    "\n",
    "\n"
   ]
  },
  {
   "cell_type": "code",
   "execution_count": null,
   "metadata": {},
   "outputs": [],
   "source": []
  }
 ]
}